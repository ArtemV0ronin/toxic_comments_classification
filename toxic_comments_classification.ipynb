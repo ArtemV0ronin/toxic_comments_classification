{
 "cells": [
  {
   "cell_type": "markdown",
   "metadata": {},
   "source": [
    "<div class=\"alert alert-warning\" role=\"alert\"; style=\"border:groove rgb(57,136,235) 5px; padding: 40px\">\n",
    "\n",
    "\n",
    "<h1 align=\"center\", style=\"margin-bottom: -10px\">Классификация токсичных комментариев<a class=\"tocSkip\"></h1>\n",
    "<h4 align=\"center\", style=\"margin-bottom: 60px\">Учебный проект, Яндекс Практикум <a class=\"tocSkip\"> </h4>\n",
    "<h4 align=\"right\", style=\"margin-bottom: -15px\">Исполнитель: Воронин Артём<a class=\"tocSkip\"></h4> "
   ]
  },
  {
   "cell_type": "markdown",
   "metadata": {},
   "source": [
    "<h1 align=\"center\">Описание проекта</h1>\n",
    "<h2>Задача проекта:<span class=\"tocSkip\"></span></h2>\n",
    "\n",
    "Интернет-магазин «Викишоп» запускает новый сервис. В нём пользователи могут редактировать и дополнять описания товаров, как в вики-сообществах. Клиенты предлагают свои правки и комментируют изменения других. Магазину нужен инструмент, который будет искать токсичные комментарии и отправлять их на модерацию. \n",
    "<p style=\"margin-bottom: 50px\"></p>\n",
    "\n",
    "<h2>Описание данных:<span class=\"tocSkip\"></span></h2>\n",
    "\n",
    "В нашем распоряжении набор данных с разметкой о токсичности правок.\n",
    "Данные находятся в файле `toxic_comments.csv`. Столбец *text* в нём содержит текст комментария, а *toxic* — целевой признак."
   ]
  },
  {
   "cell_type": "markdown",
   "metadata": {},
   "source": [
    "# 0 Подготовка к работе"
   ]
  },
  {
   "cell_type": "markdown",
   "metadata": {},
   "source": [
    "## 0.1 Установка пакетов"
   ]
  },
  {
   "cell_type": "code",
   "execution_count": 1,
   "metadata": {},
   "outputs": [
    {
     "name": "stdout",
     "output_type": "stream",
     "text": [
      "\u001b[38;5;3m[!] As of spaCy v3.0, shortcuts like 'en' are deprecated. Please use\n",
      "the full pipeline package name 'en_core_web_sm' instead.\u001b[0m\n",
      "\u001b[38;5;2m[+] Download and installation successful\u001b[0m\n",
      "You can now load the package via spacy.load('en_core_web_sm')\n"
     ]
    }
   ],
   "source": [
    "!pip install catboost --quiet --disable-pip-version-check\n",
    "!pip install torch --quiet --disable-pip-version-check\n",
    "!pip install transformers --quiet --disable-pip-version-check\n",
    "!pip install spacy --quiet --disable-pip-version-check\n",
    "!spacy download en --quiet --disable-pip-version-check\n",
    "!pip install -U nltk --quiet --disable-pip-version-check"
   ]
  },
  {
   "cell_type": "markdown",
   "metadata": {},
   "source": [
    "## 0.2 Импорт библиотек"
   ]
  },
  {
   "cell_type": "code",
   "execution_count": 2,
   "metadata": {
    "scrolled": true
   },
   "outputs": [],
   "source": [
    "import spacy\n",
    "import time\n",
    "import re\n",
    "import torch\n",
    "import pandas as pd\n",
    "import numpy as np\n",
    "import matplotlib.pyplot as plt\n",
    "import seaborn as sns\n",
    "import warnings\n",
    "\n",
    "\n",
    "from sklearn.feature_extraction.text import CountVectorizer, TfidfVectorizer\n",
    "from sklearn.pipeline import Pipeline\n",
    "from sklearn.model_selection import GridSearchCV, train_test_split, cross_val_score\n",
    "from sklearn.utils import shuffle\n",
    "from sklearn.metrics import *\n",
    "from tqdm import notebook\n",
    "from tqdm.notebook import tqdm\n",
    "\n",
    "\n",
    "# модели\n",
    "from sklearn.linear_model import LogisticRegression\n",
    "from sklearn.tree import DecisionTreeClassifier\n",
    "from catboost import CatBoostClassifier\n",
    "\n",
    "# BERT-модель\n",
    "from transformers import DistilBertModel, DistilBertTokenizer\n",
    "\n",
    "\n",
    "import nltk\n",
    "from nltk.stem import WordNetLemmatizer \n",
    "from nltk.corpus import wordnet\n",
    "from nltk.corpus import stopwords as nltk_stopwords"
   ]
  },
  {
   "cell_type": "markdown",
   "metadata": {},
   "source": [
    "## 0.3 Загрузка данных"
   ]
  },
  {
   "cell_type": "code",
   "execution_count": 3,
   "metadata": {},
   "outputs": [],
   "source": [
    "def data_load(name):\n",
    "    '''Загружает датасет из файла'''\n",
    "    \n",
    "    try:\n",
    "        data = pd.read_csv(f'/{name}')\n",
    "        print('Датасет успешно загружен!')\n",
    "        return data    \n",
    "    except:\n",
    "        try:\n",
    "            data = pd.read_csv(f'https://code.s3.yandex.net/datasets/{name}')\n",
    "            print('Датасет успешно загружен!')\n",
    "            return data\n",
    "        except:  \n",
    "            print(f'Ошибка месторасположения csv-файла \"{name}\"')"
   ]
  },
  {
   "cell_type": "code",
   "execution_count": 4,
   "metadata": {},
   "outputs": [
    {
     "name": "stdout",
     "output_type": "stream",
     "text": [
      "Датасет успешно загружен!\n"
     ]
    }
   ],
   "source": [
    "df = data_load('toxic_comments.csv')"
   ]
  },
  {
   "cell_type": "code",
   "execution_count": 5,
   "metadata": {},
   "outputs": [],
   "source": [
    "data = df.copy()   # создаем резервную копию для удобства работы"
   ]
  },
  {
   "cell_type": "code",
   "execution_count": 6,
   "metadata": {},
   "outputs": [],
   "source": [
    "# df = data"
   ]
  },
  {
   "cell_type": "markdown",
   "metadata": {},
   "source": [
    "**Вывод:** Данные успешно загружены, ошибок в файле и датасете нет."
   ]
  },
  {
   "cell_type": "markdown",
   "metadata": {},
   "source": [
    "# 1 Обзор и предобработка данных"
   ]
  },
  {
   "cell_type": "markdown",
   "metadata": {},
   "source": [
    "## 1.1 Предварительный обзор"
   ]
  },
  {
   "cell_type": "code",
   "execution_count": 7,
   "metadata": {
    "scrolled": false
   },
   "outputs": [
    {
     "data": {
      "text/html": [
       "<div>\n",
       "<style scoped>\n",
       "    .dataframe tbody tr th:only-of-type {\n",
       "        vertical-align: middle;\n",
       "    }\n",
       "\n",
       "    .dataframe tbody tr th {\n",
       "        vertical-align: top;\n",
       "    }\n",
       "\n",
       "    .dataframe thead th {\n",
       "        text-align: right;\n",
       "    }\n",
       "</style>\n",
       "<table border=\"1\" class=\"dataframe\">\n",
       "  <thead>\n",
       "    <tr style=\"text-align: right;\">\n",
       "      <th></th>\n",
       "      <th>Unnamed: 0</th>\n",
       "      <th>text</th>\n",
       "      <th>toxic</th>\n",
       "    </tr>\n",
       "  </thead>\n",
       "  <tbody>\n",
       "    <tr>\n",
       "      <th>56862</th>\n",
       "      <td>56923</td>\n",
       "      <td>Yo barny, you alright?</td>\n",
       "      <td>0</td>\n",
       "    </tr>\n",
       "    <tr>\n",
       "      <th>153167</th>\n",
       "      <td>153324</td>\n",
       "      <td>Absolutely. I'll work on it either tomorrow or...</td>\n",
       "      <td>0</td>\n",
       "    </tr>\n",
       "    <tr>\n",
       "      <th>152222</th>\n",
       "      <td>152379</td>\n",
       "      <td>January 2009 \\n\\nPlease do not replace Wikiped...</td>\n",
       "      <td>0</td>\n",
       "    </tr>\n",
       "    <tr>\n",
       "      <th>13216</th>\n",
       "      <td>13231</td>\n",
       "      <td>See here: https://en.wikipedia.org/wiki/Talk:S...</td>\n",
       "      <td>0</td>\n",
       "    </tr>\n",
       "    <tr>\n",
       "      <th>67141</th>\n",
       "      <td>67209</td>\n",
       "      <td>\"\\n\\n weasel words \\n\\nI read the article pret...</td>\n",
       "      <td>0</td>\n",
       "    </tr>\n",
       "    <tr>\n",
       "      <th>156933</th>\n",
       "      <td>157092</td>\n",
       "      <td>\"\\n@EdJohnston:  Done  (t • c) \"</td>\n",
       "      <td>0</td>\n",
       "    </tr>\n",
       "    <tr>\n",
       "      <th>77861</th>\n",
       "      <td>77937</td>\n",
       "      <td>Hi, you deleted a serious query \\n\\nSorry if i...</td>\n",
       "      <td>0</td>\n",
       "    </tr>\n",
       "    <tr>\n",
       "      <th>2041</th>\n",
       "      <td>2041</td>\n",
       "      <td>\"\\n\\n Teahouse talkback: You've got messages! ...</td>\n",
       "      <td>0</td>\n",
       "    </tr>\n",
       "    <tr>\n",
       "      <th>12623</th>\n",
       "      <td>12638</td>\n",
       "      <td>Carrot Top page \\n\\nYou little faggot, why are...</td>\n",
       "      <td>1</td>\n",
       "    </tr>\n",
       "    <tr>\n",
       "      <th>84277</th>\n",
       "      <td>84358</td>\n",
       "      <td>Giusppe Fiorini\\nThank you for your concern. I...</td>\n",
       "      <td>0</td>\n",
       "    </tr>\n",
       "  </tbody>\n",
       "</table>\n",
       "</div>"
      ],
      "text/plain": [
       "        Unnamed: 0                                               text  toxic\n",
       "56862        56923                             Yo barny, you alright?      0\n",
       "153167      153324  Absolutely. I'll work on it either tomorrow or...      0\n",
       "152222      152379  January 2009 \\n\\nPlease do not replace Wikiped...      0\n",
       "13216        13231  See here: https://en.wikipedia.org/wiki/Talk:S...      0\n",
       "67141        67209  \"\\n\\n weasel words \\n\\nI read the article pret...      0\n",
       "156933      157092                   \"\\n@EdJohnston:  Done  (t • c) \"      0\n",
       "77861        77937  Hi, you deleted a serious query \\n\\nSorry if i...      0\n",
       "2041          2041  \"\\n\\n Teahouse talkback: You've got messages! ...      0\n",
       "12623        12638  Carrot Top page \\n\\nYou little faggot, why are...      1\n",
       "84277        84358  Giusppe Fiorini\\nThank you for your concern. I...      0"
      ]
     },
     "metadata": {},
     "output_type": "display_data"
    },
    {
     "name": "stdout",
     "output_type": "stream",
     "text": [
      "\n",
      "<class 'pandas.core.frame.DataFrame'>\n",
      "RangeIndex: 159292 entries, 0 to 159291\n",
      "Data columns (total 3 columns):\n",
      " #   Column      Non-Null Count   Dtype \n",
      "---  ------      --------------   ----- \n",
      " 0   Unnamed: 0  159292 non-null  int64 \n",
      " 1   text        159292 non-null  object\n",
      " 2   toxic       159292 non-null  int64 \n",
      "dtypes: int64(2), object(1)\n",
      "memory usage: 3.6+ MB\n"
     ]
    }
   ],
   "source": [
    "display(df.sample(10))\n",
    "print()\n",
    "df.info()"
   ]
  },
  {
   "cell_type": "markdown",
   "metadata": {},
   "source": [
    "## 1.2 Баланс классов\n",
    "\n",
    "Т.к. задача проекта относится к классификации, необходимо оценить баланс классов:"
   ]
  },
  {
   "cell_type": "code",
   "execution_count": 8,
   "metadata": {
    "scrolled": false
   },
   "outputs": [
    {
     "data": {
      "image/png": "[encoded data removed]",
      "text/plain": [
       "<Figure size 640x480 with 1 Axes>"
      ]
     },
     "metadata": {},
     "output_type": "display_data"
    }
   ],
   "source": [
    "df.toxic.value_counts().plot(kind='bar');"
   ]
  },
  {
   "cell_type": "code",
   "execution_count": 9,
   "metadata": {},
   "outputs": [
    {
     "name": "stdout",
     "output_type": "stream",
     "text": [
      "Соотношение классов 1:8.84\n"
     ]
    }
   ],
   "source": [
    "tmp = df['toxic'].value_counts()\n",
    "print('Соотношение классов 1:', (tmp[0] / tmp[1]).round(2), sep='')"
   ]
  },
  {
   "cell_type": "markdown",
   "metadata": {},
   "source": [
    "**Вывод:**\n",
    "\n",
    "Виден явный дисбаланс классов. Это необходимо учесть при построении моделей."
   ]
  },
  {
   "cell_type": "markdown",
   "metadata": {},
   "source": [
    "## 1.3 Предобработка "
   ]
  },
  {
   "cell_type": "markdown",
   "metadata": {},
   "source": [
    "### Пропуски"
   ]
  },
  {
   "cell_type": "code",
   "execution_count": 10,
   "metadata": {},
   "outputs": [],
   "source": [
    "def pass_value_barh(df):\n",
    "    '''Строит гистограмму пропусков и их долю в %'''\n",
    "    \n",
    "    try:\n",
    "        (\n",
    "            (df.isna().mean()*100)\n",
    "            .to_frame()\n",
    "            .rename(columns = {0:'space'})\n",
    "            .query('space > 0')\n",
    "            .sort_values(by='space', ascending=True)\n",
    "            .plot(kind='barh', figsize=(15, 6), legend=False, fontsize=15)\n",
    "            .set_title('Гистограмма пропусков' + \"\\n\", fontsize=22, color='SteelBlue')    \n",
    "        );   \n",
    "        print('\\nДоля пропусков: {:.2%}'.format(data.isna().mean().mean()))\n",
    "    except:\n",
    "        plt.close();\n",
    "        print('Пропусков не осталось 😎')"
   ]
  },
  {
   "cell_type": "code",
   "execution_count": 11,
   "metadata": {},
   "outputs": [
    {
     "name": "stdout",
     "output_type": "stream",
     "text": [
      "Пропусков не осталось 😎\n"
     ]
    }
   ],
   "source": [
    "pass_value_barh(df)"
   ]
  },
  {
   "cell_type": "markdown",
   "metadata": {},
   "source": [
    "### Дубликаты"
   ]
  },
  {
   "cell_type": "code",
   "execution_count": 12,
   "metadata": {
    "scrolled": true
   },
   "outputs": [
    {
     "name": "stdout",
     "output_type": "stream",
     "text": [
      "Кол-во явных дубликатов в данных: 0\n"
     ]
    }
   ],
   "source": [
    "print('Кол-во явных дубликатов в данных:', df.duplicated().sum())"
   ]
  },
  {
   "cell_type": "markdown",
   "metadata": {},
   "source": [
    "## 1.4 Вывод по разделу\n",
    "\n",
    "- данные состоят из 1 таблицы размером 159292 × 3;\n",
    "- пропуски в данных отсутствуют;\n",
    "- явные дубликаты в данных отсутствуют;\n",
    "- тип данных в целевом признаке - колличественный (int64), в текстовом признаке - объектовый (object);\n",
    "- в целевом признаке присутствует сильный дисбаланс классов - 1:8,84."
   ]
  },
  {
   "cell_type": "markdown",
   "metadata": {},
   "source": [
    "# 2 Обработка данных"
   ]
  },
  {
   "cell_type": "markdown",
   "metadata": {},
   "source": [
    "## 2.1 Очистка и лемматизация "
   ]
  },
  {
   "cell_type": "code",
   "execution_count": 13,
   "metadata": {},
   "outputs": [],
   "source": [
    "wnl = WordNetLemmatizer()   # лемматизатор\n",
    "\n",
    "nlp = spacy.load(\"en_core_web_sm\")"
   ]
  },
  {
   "cell_type": "code",
   "execution_count": 14,
   "metadata": {},
   "outputs": [],
   "source": [
    "def lemmatize(text):\n",
    "    \"\"\"Функция очистки и лемматизации\"\"\"\n",
    "    \n",
    "    text = text.lower()\n",
    "    text = re.sub(r'[^a-z]', ' ', text)\n",
    "    doc = nlp(text)\n",
    "    return \" \".join([token.lemma_ for token in doc])"
   ]
  },
  {
   "cell_type": "code",
   "execution_count": 15,
   "metadata": {
    "scrolled": false
   },
   "outputs": [
    {
     "data": {
      "application/vnd.jupyter.widget-view+json": {
       "model_id": "8511a29ffa044b3584254821d06d4839",
       "version_major": 2,
       "version_minor": 0
      },
      "text/plain": [
       "  0%|          | 0/159292 [00:00<?, ?it/s]"
      ]
     },
     "metadata": {},
     "output_type": "display_data"
    },
    {
     "data": {
      "text/html": [
       "<div>\n",
       "<style scoped>\n",
       "    .dataframe tbody tr th:only-of-type {\n",
       "        vertical-align: middle;\n",
       "    }\n",
       "\n",
       "    .dataframe tbody tr th {\n",
       "        vertical-align: top;\n",
       "    }\n",
       "\n",
       "    .dataframe thead th {\n",
       "        text-align: right;\n",
       "    }\n",
       "</style>\n",
       "<table border=\"1\" class=\"dataframe\">\n",
       "  <thead>\n",
       "    <tr style=\"text-align: right;\">\n",
       "      <th></th>\n",
       "      <th>toxic</th>\n",
       "      <th>lemm_text</th>\n",
       "    </tr>\n",
       "  </thead>\n",
       "  <tbody>\n",
       "    <tr>\n",
       "      <th>0</th>\n",
       "      <td>0</td>\n",
       "      <td>explanation why the edit make under my usernam...</td>\n",
       "    </tr>\n",
       "    <tr>\n",
       "      <th>1</th>\n",
       "      <td>0</td>\n",
       "      <td>d aww   he match this background colour I m se...</td>\n",
       "    </tr>\n",
       "    <tr>\n",
       "      <th>2</th>\n",
       "      <td>0</td>\n",
       "      <td>hey man   I m really not try to edit war   it ...</td>\n",
       "    </tr>\n",
       "    <tr>\n",
       "      <th>3</th>\n",
       "      <td>0</td>\n",
       "      <td>more I can t make any real suggestion on im...</td>\n",
       "    </tr>\n",
       "    <tr>\n",
       "      <th>4</th>\n",
       "      <td>0</td>\n",
       "      <td>you   sir   be my hero   any chance you rememb...</td>\n",
       "    </tr>\n",
       "    <tr>\n",
       "      <th>...</th>\n",
       "      <td>...</td>\n",
       "      <td>...</td>\n",
       "    </tr>\n",
       "    <tr>\n",
       "      <th>159287</th>\n",
       "      <td>0</td>\n",
       "      <td>and for the second time of ask   when y...</td>\n",
       "    </tr>\n",
       "    <tr>\n",
       "      <th>159288</th>\n",
       "      <td>0</td>\n",
       "      <td>you should be ashamed of yourself    that be a...</td>\n",
       "    </tr>\n",
       "    <tr>\n",
       "      <th>159289</th>\n",
       "      <td>0</td>\n",
       "      <td>spitzer    umm   there s no actual article for...</td>\n",
       "    </tr>\n",
       "    <tr>\n",
       "      <th>159290</th>\n",
       "      <td>0</td>\n",
       "      <td>and it look like it be actually you who put on...</td>\n",
       "    </tr>\n",
       "    <tr>\n",
       "      <th>159291</th>\n",
       "      <td>0</td>\n",
       "      <td>and      I really don t think you understan...</td>\n",
       "    </tr>\n",
       "  </tbody>\n",
       "</table>\n",
       "<p>159292 rows × 2 columns</p>\n",
       "</div>"
      ],
      "text/plain": [
       "        toxic                                          lemm_text\n",
       "0           0  explanation why the edit make under my usernam...\n",
       "1           0  d aww   he match this background colour I m se...\n",
       "2           0  hey man   I m really not try to edit war   it ...\n",
       "3           0     more I can t make any real suggestion on im...\n",
       "4           0  you   sir   be my hero   any chance you rememb...\n",
       "...       ...                                                ...\n",
       "159287      0         and for the second time of ask   when y...\n",
       "159288      0  you should be ashamed of yourself    that be a...\n",
       "159289      0  spitzer    umm   there s no actual article for...\n",
       "159290      0  and it look like it be actually you who put on...\n",
       "159291      0     and      I really don t think you understan...\n",
       "\n",
       "[159292 rows x 2 columns]"
      ]
     },
     "execution_count": 15,
     "metadata": {},
     "output_type": "execute_result"
    }
   ],
   "source": [
    "tqdm.pandas()\n",
    "df['lemm_text'] = df['text'].progress_apply(lemmatize)    # очищаем текст\n",
    "df = df.drop(['text', 'Unnamed: 0'], axis=1)              # удаляем ненужные столбцы\n",
    "\n",
    "df"
   ]
  },
  {
   "cell_type": "markdown",
   "metadata": {},
   "source": [
    "## 2.2 Разделение на выборки"
   ]
  },
  {
   "cell_type": "markdown",
   "metadata": {},
   "source": [
    "Выделим тестовую выборку до применения каких-либо трансформеров, чтобы избежать утечки данных:"
   ]
  },
  {
   "cell_type": "code",
   "execution_count": 16,
   "metadata": {
    "scrolled": true
   },
   "outputs": [
    {
     "name": "stdout",
     "output_type": "stream",
     "text": [
      "Размер обучающих выборок:  (119469, 1) (119469,)\n",
      "Размер тестовых выборок:  (39823, 1) (39823,)\n"
     ]
    }
   ],
   "source": [
    "x_train, x_test, y_train, y_test = (                        \n",
    "            train_test_split(df.drop('toxic', axis=1),\n",
    "                             df['toxic'],\n",
    "                             test_size=0.25,\n",
    "                             random_state=321)    \n",
    "    )\n",
    "\n",
    "# check\n",
    "print('Размер обучающих выборок: ', x_train.shape, y_train.shape)\n",
    "print('Размер тестовых выборок: ', x_test.shape, y_test.shape)"
   ]
  },
  {
   "cell_type": "markdown",
   "metadata": {},
   "source": [
    "### Вывод\n",
    "\n",
    "- данные очищены - оставлены только символы английского алфавита\n",
    "- данные лемматизированы с помощью Spacy\n",
    "- выделены обучающая и тестовая выборки в размерах 75% и 25%"
   ]
  },
  {
   "cell_type": "markdown",
   "metadata": {},
   "source": [
    "# 3 Обучение моделей"
   ]
  },
  {
   "cell_type": "markdown",
   "metadata": {},
   "source": [
    "## 3.1 Подготовка"
   ]
  },
  {
   "cell_type": "markdown",
   "metadata": {},
   "source": [
    "> **Примечание.** Гиперпараметры во всех моделях я подобрал заранее, перебрав широкие диапазоны. Для сокращения времени выполнения проекта я лучшие гиперпараметры добавил сразу в грид."
   ]
  },
  {
   "cell_type": "code",
   "execution_count": 17,
   "metadata": {},
   "outputs": [],
   "source": [
    "# загрузка nltk пакетов\n",
    "\n",
    "nltk_lst = [\n",
    "    'averaged_perceptron_tagger', \n",
    "    'stopwords', \n",
    "    'wordnet', \n",
    "    'omw-1.4'\n",
    "]\n",
    "\n",
    "nltk.download(nltk_lst, quiet=True)\n",
    "\n",
    "stopwords = list(nltk_stopwords.words('english'))"
   ]
  },
  {
   "cell_type": "code",
   "execution_count": 18,
   "metadata": {},
   "outputs": [],
   "source": [
    "def make_pipeline(model, params):\n",
    "    '''Строит пайплайн для моделей с TFIDF векторайзером\n",
    "        перебор параметров идет через Gridsearch\n",
    "        функция ошибки - f1\n",
    "    '''\n",
    "    \n",
    "    pipeline = Pipeline([ \n",
    "        ('tfidfvect', TfidfVectorizer(stop_words=stopwords)),\n",
    "        ('model', model) \n",
    "                        ])\n",
    "    \n",
    "    result = GridSearchCV(\n",
    "        estimator=pipeline,\n",
    "        param_grid=params,\n",
    "        scoring='f1',\n",
    "        cv=3) \n",
    "\n",
    "    return result"
   ]
  },
  {
   "cell_type": "markdown",
   "metadata": {},
   "source": [
    "### 3.1.1 LogisticRegression"
   ]
  },
  {
   "cell_type": "code",
   "execution_count": 19,
   "metadata": {
    "scrolled": true
   },
   "outputs": [],
   "source": [
    "params_lr = [{ \n",
    "    #'newton-cg', 'lbfgs', 'sag', 'saga', 'liblinear'\n",
    "    'model__solver': ['sag'],              # 'sag'\n",
    "    'model__C': [10.0],\n",
    "    'model__class_weight': ['balanced'],\n",
    "    'model__random_state': [321]\n",
    "}]\n",
    "\n",
    "LR = make_pipeline(LogisticRegression(), params_lr)   # 0.760"
   ]
  },
  {
   "cell_type": "markdown",
   "metadata": {},
   "source": [
    "### 3.1.2 DecisionTreeClassifier"
   ]
  },
  {
   "cell_type": "code",
   "execution_count": 20,
   "metadata": {},
   "outputs": [],
   "source": [
    "params_dtc = [{ \n",
    "    'model__max_depth': range(64, 65),         # 64 \n",
    "    'model__criterion': ['gini'],              # gini\n",
    "    'model__min_samples_leaf': range(1, 2),    # 1\n",
    "    'model__min_samples_split': range(8, 9),   # 8\n",
    "    'model__random_state': [321]\n",
    "}]\n",
    "\n",
    "\n",
    "DTC = make_pipeline(DecisionTreeClassifier(), params_dtc)   # 0.712"
   ]
  },
  {
   "cell_type": "markdown",
   "metadata": {},
   "source": [
    "### 3.1.3 CatBoostClassifier"
   ]
  },
  {
   "cell_type": "markdown",
   "metadata": {},
   "source": [
    "Кэтбуст крашит ядро, поэтому полноценно перебрать гиперпараметры не удалось."
   ]
  },
  {
   "cell_type": "code",
   "execution_count": 21,
   "metadata": {},
   "outputs": [],
   "source": [
    "params_cat = [{ \n",
    "    'model__depth':  range(6, 7),              # 6\n",
    "    'model__n_estimators': range(34, 35),      # 34\n",
    "    'model__learning_rate': [0.5],             #0.5                 \n",
    "    'model__silent': [True],\n",
    "    'model__random_seed': [321]\n",
    "}]\n",
    "\n",
    "\n",
    "CAT = make_pipeline(CatBoostClassifier(), params_cat)   # 0.712"
   ]
  },
  {
   "cell_type": "markdown",
   "metadata": {},
   "source": [
    "## 3.2 Обучение"
   ]
  },
  {
   "cell_type": "code",
   "execution_count": 22,
   "metadata": {},
   "outputs": [
    {
     "data": {
      "text/plain": [
       "143924      seriously there s nothing sinister about my ...\n",
       "48813       this youtube account be the only real golden...\n",
       "132716    having recognize that   this be that anoint se...\n",
       "115298    regional snowfall index   scale    most of the...\n",
       "103028        explain   I don t have to explain anything...\n",
       "                                ...                        \n",
       "155816                           when the hell do I do that\n",
       "137001    please stop add nonsense to wikipedia   it be ...\n",
       "135292    ths user have decide to move on with his pov p...\n",
       "137754    the assertion be not make that pnac be a pro f...\n",
       "97268          polly umrigar    hi   can you help I with...\n",
       "Name: lemm_text, Length: 119469, dtype: object"
      ]
     },
     "execution_count": 22,
     "metadata": {},
     "output_type": "execute_result"
    }
   ],
   "source": [
    "x_train['lemm_text']"
   ]
  },
  {
   "cell_type": "code",
   "execution_count": 23,
   "metadata": {},
   "outputs": [
    {
     "name": "stdout",
     "output_type": "stream",
     "text": [
      "Модель: LogisticRegression\n",
      "Лучшие гиперпараметры : {'model__C': 10.0, 'model__class_weight': 'balanced', 'model__random_state': 321, 'model__solver': 'sag'}\n",
      "Наилучшая f1 метрика на кросс-валидации: 0.760\n",
      "Время работы: 39 секунд\n",
      "\n",
      "\n",
      "\n",
      "Модель: DecisionTreeClassifier\n",
      "Лучшие гиперпараметры : {'model__criterion': 'gini', 'model__max_depth': 64, 'model__min_samples_leaf': 1, 'model__min_samples_split': 8, 'model__random_state': 321}\n",
      "Наилучшая f1 метрика на кросс-валидации: 0.716\n",
      "Время работы: 120 секунд\n",
      "\n",
      "\n",
      "\n",
      "Модель: CatBoostClassifier\n",
      "Лучшие гиперпараметры : {'model__depth': 6, 'model__learning_rate': 0.5, 'model__n_estimators': 34, 'model__random_seed': 321, 'model__silent': True}\n",
      "Наилучшая f1 метрика на кросс-валидации: 0.714\n",
      "Время работы: 141 секунд\n",
      "\n",
      "\n",
      "\n"
     ]
    }
   ],
   "source": [
    "# список моделей\n",
    "grids = [LR, DTC, CAT]\n",
    "\n",
    "\n",
    "# инициализация наилучших параметров\n",
    "best_f1 = 0.0\n",
    "best_model = None\n",
    "best_model_name = ''\n",
    "\n",
    "with warnings.catch_warnings():\n",
    "    warnings.filterwarnings(\"ignore\")\n",
    "    for idx, gs in enumerate(grids):\n",
    "        start = time.time()\n",
    "        name = gs.estimator[1].__class__.__name__\n",
    "        gs.fit(x_train['lemm_text'], y_train)\n",
    "        score = gs.best_score_    \n",
    "        print('Модель: %s' % name)        \n",
    "        print('Лучшие гиперпараметры : %s' % gs.best_params_)\n",
    "        print('Наилучшая f1 метрика на кросс-валидации: %.3f' % score)\n",
    "        end_time = time.time() - start\n",
    "        print('Время работы: %.0f секунд' % end_time)\n",
    "        print('\\n\\n')\n",
    "        if score > best_f1:\n",
    "            best_f1 = score\n",
    "            best_model = gs\n",
    "            best_model_name = name"
   ]
  },
  {
   "cell_type": "markdown",
   "metadata": {},
   "source": [
    "# 4 Тестирование"
   ]
  },
  {
   "cell_type": "markdown",
   "metadata": {},
   "source": [
    "Лучшая модель по метрике f1 оказалась модель линейной регрессии. Проверим её на тестовой выборке:"
   ]
  },
  {
   "cell_type": "code",
   "execution_count": 58,
   "metadata": {},
   "outputs": [
    {
     "name": "stdout",
     "output_type": "stream",
     "text": [
      "Лучшая модель: LogisticRegression\n",
      "f1 = 0.752\n"
     ]
    }
   ],
   "source": [
    "predictions = best_model.predict(x_test['lemm_text'])\n",
    "f1_score_test = f1_score(y_test, predictions)\n",
    "\n",
    "print(f'Лучшая модель: {best_model_name}',\n",
    "      f'f1 = {f1_score_test.round(3)}', sep='\\n' )"
   ]
  },
  {
   "cell_type": "markdown",
   "metadata": {},
   "source": [
    "Построим матрицу ошибок модели:"
   ]
  },
  {
   "cell_type": "code",
   "execution_count": 113,
   "metadata": {},
   "outputs": [
    {
     "data": {
      "image/png": "[encoded data removed]",
      "text/plain": [
       "<Figure size 640x480 with 2 Axes>"
      ]
     },
     "metadata": {},
     "output_type": "display_data"
    }
   ],
   "source": [
    "ConfusionMatrixDisplay.from_estimator(best_model, x_test['lemm_text'], y_test, cmap='Blues')\n",
    "plt.title('Матрица ошибок', fontsize=15)\n",
    "plt.show()"
   ]
  },
  {
   "cell_type": "markdown",
   "metadata": {},
   "source": [
    "# 5 BERT"
   ]
  },
  {
   "cell_type": "markdown",
   "metadata": {},
   "source": [
    "Применим в проекте модель BERT. Мощностей моего ПК не хватило, чтобы обработать весь датасет целиком. Но т.к. проект не носит коммерческий характер, то было решено сделать выборку из 10000 случайных объектов. "
   ]
  },
  {
   "cell_type": "markdown",
   "metadata": {},
   "source": [
    "## 5.1 Подготовка"
   ]
  },
  {
   "cell_type": "code",
   "execution_count": 25,
   "metadata": {},
   "outputs": [],
   "source": [
    "df_bert = data.sample(10000).copy()"
   ]
  },
  {
   "cell_type": "code",
   "execution_count": 26,
   "metadata": {
    "scrolled": true
   },
   "outputs": [],
   "source": [
    "pretrained_weights = 'distilbert-base-uncased'\n",
    "\n",
    "# Загрузка предобученной модели и токенизатора \n",
    "tokenizer = DistilBertTokenizer.from_pretrained(pretrained_weights)\n",
    "model = DistilBertModel.from_pretrained(pretrained_weights)"
   ]
  },
  {
   "cell_type": "code",
   "execution_count": 27,
   "metadata": {
    "scrolled": true
   },
   "outputs": [
    {
     "name": "stderr",
     "output_type": "stream",
     "text": [
      "Token indices sequence length is longer than the specified maximum sequence length for this model (661 > 512). Running this sequence through the model will result in indexing errors\n",
      "Token indices sequence length is longer than the specified maximum sequence length for this model (517 > 512). Running this sequence through the model will result in indexing errors\n",
      "Token indices sequence length is longer than the specified maximum sequence length for this model (660 > 512). Running this sequence through the model will result in indexing errors\n",
      "Token indices sequence length is longer than the specified maximum sequence length for this model (1067 > 512). Running this sequence through the model will result in indexing errors\n",
      "Token indices sequence length is longer than the specified maximum sequence length for this model (795 > 512). Running this sequence through the model will result in indexing errors\n",
      "Token indices sequence length is longer than the specified maximum sequence length for this model (1024 > 512). Running this sequence through the model will result in indexing errors\n",
      "Token indices sequence length is longer than the specified maximum sequence length for this model (1552 > 512). Running this sequence through the model will result in indexing errors\n",
      "Token indices sequence length is longer than the specified maximum sequence length for this model (770 > 512). Running this sequence through the model will result in indexing errors\n",
      "Token indices sequence length is longer than the specified maximum sequence length for this model (963 > 512). Running this sequence through the model will result in indexing errors\n",
      "Token indices sequence length is longer than the specified maximum sequence length for this model (1005 > 512). Running this sequence through the model will result in indexing errors\n",
      "Token indices sequence length is longer than the specified maximum sequence length for this model (809 > 512). Running this sequence through the model will result in indexing errors\n",
      "Token indices sequence length is longer than the specified maximum sequence length for this model (619 > 512). Running this sequence through the model will result in indexing errors\n",
      "Token indices sequence length is longer than the specified maximum sequence length for this model (952 > 512). Running this sequence through the model will result in indexing errors\n",
      "Token indices sequence length is longer than the specified maximum sequence length for this model (723 > 512). Running this sequence through the model will result in indexing errors\n",
      "Token indices sequence length is longer than the specified maximum sequence length for this model (667 > 512). Running this sequence through the model will result in indexing errors\n",
      "Token indices sequence length is longer than the specified maximum sequence length for this model (703 > 512). Running this sequence through the model will result in indexing errors\n",
      "Token indices sequence length is longer than the specified maximum sequence length for this model (751 > 512). Running this sequence through the model will result in indexing errors\n",
      "Token indices sequence length is longer than the specified maximum sequence length for this model (1046 > 512). Running this sequence through the model will result in indexing errors\n",
      "Token indices sequence length is longer than the specified maximum sequence length for this model (997 > 512). Running this sequence through the model will result in indexing errors\n",
      "Token indices sequence length is longer than the specified maximum sequence length for this model (671 > 512). Running this sequence through the model will result in indexing errors\n",
      "Token indices sequence length is longer than the specified maximum sequence length for this model (515 > 512). Running this sequence through the model will result in indexing errors\n",
      "Token indices sequence length is longer than the specified maximum sequence length for this model (861 > 512). Running this sequence through the model will result in indexing errors\n",
      "Token indices sequence length is longer than the specified maximum sequence length for this model (642 > 512). Running this sequence through the model will result in indexing errors\n",
      "Token indices sequence length is longer than the specified maximum sequence length for this model (583 > 512). Running this sequence through the model will result in indexing errors\n",
      "Token indices sequence length is longer than the specified maximum sequence length for this model (844 > 512). Running this sequence through the model will result in indexing errors\n",
      "Token indices sequence length is longer than the specified maximum sequence length for this model (722 > 512). Running this sequence through the model will result in indexing errors\n",
      "Token indices sequence length is longer than the specified maximum sequence length for this model (1082 > 512). Running this sequence through the model will result in indexing errors\n",
      "Token indices sequence length is longer than the specified maximum sequence length for this model (543 > 512). Running this sequence through the model will result in indexing errors\n",
      "Token indices sequence length is longer than the specified maximum sequence length for this model (670 > 512). Running this sequence through the model will result in indexing errors\n",
      "Token indices sequence length is longer than the specified maximum sequence length for this model (727 > 512). Running this sequence through the model will result in indexing errors\n",
      "Token indices sequence length is longer than the specified maximum sequence length for this model (970 > 512). Running this sequence through the model will result in indexing errors\n",
      "Token indices sequence length is longer than the specified maximum sequence length for this model (695 > 512). Running this sequence through the model will result in indexing errors\n",
      "Token indices sequence length is longer than the specified maximum sequence length for this model (1033 > 512). Running this sequence through the model will result in indexing errors\n",
      "Token indices sequence length is longer than the specified maximum sequence length for this model (928 > 512). Running this sequence through the model will result in indexing errors\n",
      "Token indices sequence length is longer than the specified maximum sequence length for this model (1004 > 512). Running this sequence through the model will result in indexing errors\n",
      "Token indices sequence length is longer than the specified maximum sequence length for this model (705 > 512). Running this sequence through the model will result in indexing errors\n",
      "Token indices sequence length is longer than the specified maximum sequence length for this model (540 > 512). Running this sequence through the model will result in indexing errors\n",
      "Token indices sequence length is longer than the specified maximum sequence length for this model (670 > 512). Running this sequence through the model will result in indexing errors\n",
      "Token indices sequence length is longer than the specified maximum sequence length for this model (683 > 512). Running this sequence through the model will result in indexing errors\n",
      "Token indices sequence length is longer than the specified maximum sequence length for this model (723 > 512). Running this sequence through the model will result in indexing errors\n",
      "Token indices sequence length is longer than the specified maximum sequence length for this model (978 > 512). Running this sequence through the model will result in indexing errors\n",
      "Token indices sequence length is longer than the specified maximum sequence length for this model (828 > 512). Running this sequence through the model will result in indexing errors\n",
      "Token indices sequence length is longer than the specified maximum sequence length for this model (565 > 512). Running this sequence through the model will result in indexing errors\n",
      "Token indices sequence length is longer than the specified maximum sequence length for this model (616 > 512). Running this sequence through the model will result in indexing errors\n",
      "Token indices sequence length is longer than the specified maximum sequence length for this model (1045 > 512). Running this sequence through the model will result in indexing errors\n"
     ]
    },
    {
     "name": "stderr",
     "output_type": "stream",
     "text": [
      "Token indices sequence length is longer than the specified maximum sequence length for this model (1015 > 512). Running this sequence through the model will result in indexing errors\n",
      "Token indices sequence length is longer than the specified maximum sequence length for this model (1042 > 512). Running this sequence through the model will result in indexing errors\n",
      "Token indices sequence length is longer than the specified maximum sequence length for this model (534 > 512). Running this sequence through the model will result in indexing errors\n",
      "Token indices sequence length is longer than the specified maximum sequence length for this model (784 > 512). Running this sequence through the model will result in indexing errors\n",
      "Token indices sequence length is longer than the specified maximum sequence length for this model (1246 > 512). Running this sequence through the model will result in indexing errors\n",
      "Token indices sequence length is longer than the specified maximum sequence length for this model (779 > 512). Running this sequence through the model will result in indexing errors\n",
      "Token indices sequence length is longer than the specified maximum sequence length for this model (993 > 512). Running this sequence through the model will result in indexing errors\n",
      "Token indices sequence length is longer than the specified maximum sequence length for this model (1134 > 512). Running this sequence through the model will result in indexing errors\n",
      "Token indices sequence length is longer than the specified maximum sequence length for this model (834 > 512). Running this sequence through the model will result in indexing errors\n",
      "Token indices sequence length is longer than the specified maximum sequence length for this model (962 > 512). Running this sequence through the model will result in indexing errors\n",
      "Token indices sequence length is longer than the specified maximum sequence length for this model (1041 > 512). Running this sequence through the model will result in indexing errors\n",
      "Token indices sequence length is longer than the specified maximum sequence length for this model (616 > 512). Running this sequence through the model will result in indexing errors\n",
      "Token indices sequence length is longer than the specified maximum sequence length for this model (1288 > 512). Running this sequence through the model will result in indexing errors\n",
      "Token indices sequence length is longer than the specified maximum sequence length for this model (686 > 512). Running this sequence through the model will result in indexing errors\n",
      "Token indices sequence length is longer than the specified maximum sequence length for this model (659 > 512). Running this sequence through the model will result in indexing errors\n",
      "Token indices sequence length is longer than the specified maximum sequence length for this model (832 > 512). Running this sequence through the model will result in indexing errors\n",
      "Token indices sequence length is longer than the specified maximum sequence length for this model (800 > 512). Running this sequence through the model will result in indexing errors\n",
      "Token indices sequence length is longer than the specified maximum sequence length for this model (1264 > 512). Running this sequence through the model will result in indexing errors\n",
      "Token indices sequence length is longer than the specified maximum sequence length for this model (543 > 512). Running this sequence through the model will result in indexing errors\n",
      "Token indices sequence length is longer than the specified maximum sequence length for this model (912 > 512). Running this sequence through the model will result in indexing errors\n",
      "Token indices sequence length is longer than the specified maximum sequence length for this model (551 > 512). Running this sequence through the model will result in indexing errors\n",
      "Token indices sequence length is longer than the specified maximum sequence length for this model (1080 > 512). Running this sequence through the model will result in indexing errors\n",
      "Token indices sequence length is longer than the specified maximum sequence length for this model (530 > 512). Running this sequence through the model will result in indexing errors\n",
      "Token indices sequence length is longer than the specified maximum sequence length for this model (914 > 512). Running this sequence through the model will result in indexing errors\n",
      "Token indices sequence length is longer than the specified maximum sequence length for this model (797 > 512). Running this sequence through the model will result in indexing errors\n",
      "Token indices sequence length is longer than the specified maximum sequence length for this model (1155 > 512). Running this sequence through the model will result in indexing errors\n",
      "Token indices sequence length is longer than the specified maximum sequence length for this model (734 > 512). Running this sequence through the model will result in indexing errors\n",
      "Token indices sequence length is longer than the specified maximum sequence length for this model (938 > 512). Running this sequence through the model will result in indexing errors\n",
      "Token indices sequence length is longer than the specified maximum sequence length for this model (522 > 512). Running this sequence through the model will result in indexing errors\n",
      "Token indices sequence length is longer than the specified maximum sequence length for this model (962 > 512). Running this sequence through the model will result in indexing errors\n",
      "Token indices sequence length is longer than the specified maximum sequence length for this model (959 > 512). Running this sequence through the model will result in indexing errors\n",
      "Token indices sequence length is longer than the specified maximum sequence length for this model (909 > 512). Running this sequence through the model will result in indexing errors\n",
      "Token indices sequence length is longer than the specified maximum sequence length for this model (1759 > 512). Running this sequence through the model will result in indexing errors\n",
      "Token indices sequence length is longer than the specified maximum sequence length for this model (557 > 512). Running this sequence through the model will result in indexing errors\n",
      "Token indices sequence length is longer than the specified maximum sequence length for this model (647 > 512). Running this sequence through the model will result in indexing errors\n",
      "Token indices sequence length is longer than the specified maximum sequence length for this model (939 > 512). Running this sequence through the model will result in indexing errors\n",
      "Token indices sequence length is longer than the specified maximum sequence length for this model (535 > 512). Running this sequence through the model will result in indexing errors\n",
      "Token indices sequence length is longer than the specified maximum sequence length for this model (974 > 512). Running this sequence through the model will result in indexing errors\n",
      "Token indices sequence length is longer than the specified maximum sequence length for this model (825 > 512). Running this sequence through the model will result in indexing errors\n",
      "Token indices sequence length is longer than the specified maximum sequence length for this model (916 > 512). Running this sequence through the model will result in indexing errors\n",
      "Token indices sequence length is longer than the specified maximum sequence length for this model (1063 > 512). Running this sequence through the model will result in indexing errors\n",
      "Token indices sequence length is longer than the specified maximum sequence length for this model (546 > 512). Running this sequence through the model will result in indexing errors\n",
      "Token indices sequence length is longer than the specified maximum sequence length for this model (767 > 512). Running this sequence through the model will result in indexing errors\n",
      "Token indices sequence length is longer than the specified maximum sequence length for this model (574 > 512). Running this sequence through the model will result in indexing errors\n",
      "Token indices sequence length is longer than the specified maximum sequence length for this model (598 > 512). Running this sequence through the model will result in indexing errors\n"
     ]
    },
    {
     "name": "stderr",
     "output_type": "stream",
     "text": [
      "Token indices sequence length is longer than the specified maximum sequence length for this model (941 > 512). Running this sequence through the model will result in indexing errors\n",
      "Token indices sequence length is longer than the specified maximum sequence length for this model (522 > 512). Running this sequence through the model will result in indexing errors\n",
      "Token indices sequence length is longer than the specified maximum sequence length for this model (517 > 512). Running this sequence through the model will result in indexing errors\n",
      "Token indices sequence length is longer than the specified maximum sequence length for this model (627 > 512). Running this sequence through the model will result in indexing errors\n",
      "Token indices sequence length is longer than the specified maximum sequence length for this model (563 > 512). Running this sequence through the model will result in indexing errors\n",
      "Token indices sequence length is longer than the specified maximum sequence length for this model (562 > 512). Running this sequence through the model will result in indexing errors\n",
      "Token indices sequence length is longer than the specified maximum sequence length for this model (828 > 512). Running this sequence through the model will result in indexing errors\n",
      "Token indices sequence length is longer than the specified maximum sequence length for this model (521 > 512). Running this sequence through the model will result in indexing errors\n",
      "Token indices sequence length is longer than the specified maximum sequence length for this model (610 > 512). Running this sequence through the model will result in indexing errors\n",
      "Token indices sequence length is longer than the specified maximum sequence length for this model (716 > 512). Running this sequence through the model will result in indexing errors\n",
      "Token indices sequence length is longer than the specified maximum sequence length for this model (839 > 512). Running this sequence through the model will result in indexing errors\n",
      "Token indices sequence length is longer than the specified maximum sequence length for this model (1224 > 512). Running this sequence through the model will result in indexing errors\n",
      "Token indices sequence length is longer than the specified maximum sequence length for this model (1115 > 512). Running this sequence through the model will result in indexing errors\n",
      "Token indices sequence length is longer than the specified maximum sequence length for this model (1080 > 512). Running this sequence through the model will result in indexing errors\n",
      "Token indices sequence length is longer than the specified maximum sequence length for this model (1106 > 512). Running this sequence through the model will result in indexing errors\n",
      "Token indices sequence length is longer than the specified maximum sequence length for this model (1192 > 512). Running this sequence through the model will result in indexing errors\n",
      "Token indices sequence length is longer than the specified maximum sequence length for this model (531 > 512). Running this sequence through the model will result in indexing errors\n",
      "Token indices sequence length is longer than the specified maximum sequence length for this model (767 > 512). Running this sequence through the model will result in indexing errors\n",
      "Token indices sequence length is longer than the specified maximum sequence length for this model (1128 > 512). Running this sequence through the model will result in indexing errors\n",
      "Token indices sequence length is longer than the specified maximum sequence length for this model (545 > 512). Running this sequence through the model will result in indexing errors\n",
      "Token indices sequence length is longer than the specified maximum sequence length for this model (1072 > 512). Running this sequence through the model will result in indexing errors\n",
      "Token indices sequence length is longer than the specified maximum sequence length for this model (761 > 512). Running this sequence through the model will result in indexing errors\n",
      "Token indices sequence length is longer than the specified maximum sequence length for this model (715 > 512). Running this sequence through the model will result in indexing errors\n",
      "Token indices sequence length is longer than the specified maximum sequence length for this model (875 > 512). Running this sequence through the model will result in indexing errors\n",
      "Token indices sequence length is longer than the specified maximum sequence length for this model (856 > 512). Running this sequence through the model will result in indexing errors\n",
      "Token indices sequence length is longer than the specified maximum sequence length for this model (603 > 512). Running this sequence through the model will result in indexing errors\n",
      "Token indices sequence length is longer than the specified maximum sequence length for this model (885 > 512). Running this sequence through the model will result in indexing errors\n",
      "Token indices sequence length is longer than the specified maximum sequence length for this model (1062 > 512). Running this sequence through the model will result in indexing errors\n",
      "Token indices sequence length is longer than the specified maximum sequence length for this model (1180 > 512). Running this sequence through the model will result in indexing errors\n",
      "Token indices sequence length is longer than the specified maximum sequence length for this model (942 > 512). Running this sequence through the model will result in indexing errors\n",
      "Token indices sequence length is longer than the specified maximum sequence length for this model (962 > 512). Running this sequence through the model will result in indexing errors\n",
      "Token indices sequence length is longer than the specified maximum sequence length for this model (770 > 512). Running this sequence through the model will result in indexing errors\n",
      "Token indices sequence length is longer than the specified maximum sequence length for this model (1210 > 512). Running this sequence through the model will result in indexing errors\n",
      "Token indices sequence length is longer than the specified maximum sequence length for this model (556 > 512). Running this sequence through the model will result in indexing errors\n",
      "Token indices sequence length is longer than the specified maximum sequence length for this model (950 > 512). Running this sequence through the model will result in indexing errors\n",
      "Token indices sequence length is longer than the specified maximum sequence length for this model (775 > 512). Running this sequence through the model will result in indexing errors\n",
      "Token indices sequence length is longer than the specified maximum sequence length for this model (1067 > 512). Running this sequence through the model will result in indexing errors\n",
      "Token indices sequence length is longer than the specified maximum sequence length for this model (877 > 512). Running this sequence through the model will result in indexing errors\n",
      "Token indices sequence length is longer than the specified maximum sequence length for this model (604 > 512). Running this sequence through the model will result in indexing errors\n",
      "Token indices sequence length is longer than the specified maximum sequence length for this model (895 > 512). Running this sequence through the model will result in indexing errors\n",
      "Token indices sequence length is longer than the specified maximum sequence length for this model (747 > 512). Running this sequence through the model will result in indexing errors\n",
      "Token indices sequence length is longer than the specified maximum sequence length for this model (553 > 512). Running this sequence through the model will result in indexing errors\n",
      "Token indices sequence length is longer than the specified maximum sequence length for this model (1229 > 512). Running this sequence through the model will result in indexing errors\n",
      "Token indices sequence length is longer than the specified maximum sequence length for this model (647 > 512). Running this sequence through the model will result in indexing errors\n",
      "Token indices sequence length is longer than the specified maximum sequence length for this model (759 > 512). Running this sequence through the model will result in indexing errors\n"
     ]
    },
    {
     "name": "stderr",
     "output_type": "stream",
     "text": [
      "Token indices sequence length is longer than the specified maximum sequence length for this model (590 > 512). Running this sequence through the model will result in indexing errors\n",
      "Token indices sequence length is longer than the specified maximum sequence length for this model (747 > 512). Running this sequence through the model will result in indexing errors\n",
      "Token indices sequence length is longer than the specified maximum sequence length for this model (558 > 512). Running this sequence through the model will result in indexing errors\n",
      "Token indices sequence length is longer than the specified maximum sequence length for this model (742 > 512). Running this sequence through the model will result in indexing errors\n",
      "Token indices sequence length is longer than the specified maximum sequence length for this model (642 > 512). Running this sequence through the model will result in indexing errors\n",
      "Token indices sequence length is longer than the specified maximum sequence length for this model (1072 > 512). Running this sequence through the model will result in indexing errors\n",
      "Token indices sequence length is longer than the specified maximum sequence length for this model (600 > 512). Running this sequence through the model will result in indexing errors\n",
      "Token indices sequence length is longer than the specified maximum sequence length for this model (548 > 512). Running this sequence through the model will result in indexing errors\n",
      "Token indices sequence length is longer than the specified maximum sequence length for this model (1247 > 512). Running this sequence through the model will result in indexing errors\n",
      "Token indices sequence length is longer than the specified maximum sequence length for this model (1015 > 512). Running this sequence through the model will result in indexing errors\n",
      "Token indices sequence length is longer than the specified maximum sequence length for this model (856 > 512). Running this sequence through the model will result in indexing errors\n",
      "Token indices sequence length is longer than the specified maximum sequence length for this model (550 > 512). Running this sequence through the model will result in indexing errors\n",
      "Token indices sequence length is longer than the specified maximum sequence length for this model (582 > 512). Running this sequence through the model will result in indexing errors\n",
      "Token indices sequence length is longer than the specified maximum sequence length for this model (700 > 512). Running this sequence through the model will result in indexing errors\n",
      "Token indices sequence length is longer than the specified maximum sequence length for this model (816 > 512). Running this sequence through the model will result in indexing errors\n",
      "Token indices sequence length is longer than the specified maximum sequence length for this model (986 > 512). Running this sequence through the model will result in indexing errors\n",
      "Token indices sequence length is longer than the specified maximum sequence length for this model (532 > 512). Running this sequence through the model will result in indexing errors\n",
      "Token indices sequence length is longer than the specified maximum sequence length for this model (719 > 512). Running this sequence through the model will result in indexing errors\n",
      "Token indices sequence length is longer than the specified maximum sequence length for this model (709 > 512). Running this sequence through the model will result in indexing errors\n",
      "Token indices sequence length is longer than the specified maximum sequence length for this model (890 > 512). Running this sequence through the model will result in indexing errors\n",
      "Token indices sequence length is longer than the specified maximum sequence length for this model (744 > 512). Running this sequence through the model will result in indexing errors\n",
      "Token indices sequence length is longer than the specified maximum sequence length for this model (798 > 512). Running this sequence through the model will result in indexing errors\n",
      "Token indices sequence length is longer than the specified maximum sequence length for this model (840 > 512). Running this sequence through the model will result in indexing errors\n",
      "Token indices sequence length is longer than the specified maximum sequence length for this model (960 > 512). Running this sequence through the model will result in indexing errors\n",
      "Token indices sequence length is longer than the specified maximum sequence length for this model (583 > 512). Running this sequence through the model will result in indexing errors\n",
      "Token indices sequence length is longer than the specified maximum sequence length for this model (987 > 512). Running this sequence through the model will result in indexing errors\n",
      "Token indices sequence length is longer than the specified maximum sequence length for this model (753 > 512). Running this sequence through the model will result in indexing errors\n",
      "Token indices sequence length is longer than the specified maximum sequence length for this model (878 > 512). Running this sequence through the model will result in indexing errors\n",
      "Token indices sequence length is longer than the specified maximum sequence length for this model (1002 > 512). Running this sequence through the model will result in indexing errors\n",
      "Token indices sequence length is longer than the specified maximum sequence length for this model (738 > 512). Running this sequence through the model will result in indexing errors\n",
      "Token indices sequence length is longer than the specified maximum sequence length for this model (1109 > 512). Running this sequence through the model will result in indexing errors\n",
      "Token indices sequence length is longer than the specified maximum sequence length for this model (772 > 512). Running this sequence through the model will result in indexing errors\n",
      "Token indices sequence length is longer than the specified maximum sequence length for this model (681 > 512). Running this sequence through the model will result in indexing errors\n",
      "Token indices sequence length is longer than the specified maximum sequence length for this model (528 > 512). Running this sequence through the model will result in indexing errors\n",
      "Token indices sequence length is longer than the specified maximum sequence length for this model (944 > 512). Running this sequence through the model will result in indexing errors\n",
      "Token indices sequence length is longer than the specified maximum sequence length for this model (792 > 512). Running this sequence through the model will result in indexing errors\n",
      "Token indices sequence length is longer than the specified maximum sequence length for this model (854 > 512). Running this sequence through the model will result in indexing errors\n",
      "Token indices sequence length is longer than the specified maximum sequence length for this model (622 > 512). Running this sequence through the model will result in indexing errors\n",
      "Token indices sequence length is longer than the specified maximum sequence length for this model (837 > 512). Running this sequence through the model will result in indexing errors\n",
      "Token indices sequence length is longer than the specified maximum sequence length for this model (1046 > 512). Running this sequence through the model will result in indexing errors\n",
      "Token indices sequence length is longer than the specified maximum sequence length for this model (537 > 512). Running this sequence through the model will result in indexing errors\n",
      "Token indices sequence length is longer than the specified maximum sequence length for this model (858 > 512). Running this sequence through the model will result in indexing errors\n",
      "Token indices sequence length is longer than the specified maximum sequence length for this model (1002 > 512). Running this sequence through the model will result in indexing errors\n",
      "Token indices sequence length is longer than the specified maximum sequence length for this model (1064 > 512). Running this sequence through the model will result in indexing errors\n",
      "Token indices sequence length is longer than the specified maximum sequence length for this model (569 > 512). Running this sequence through the model will result in indexing errors\n"
     ]
    },
    {
     "name": "stderr",
     "output_type": "stream",
     "text": [
      "Token indices sequence length is longer than the specified maximum sequence length for this model (942 > 512). Running this sequence through the model will result in indexing errors\n",
      "Token indices sequence length is longer than the specified maximum sequence length for this model (900 > 512). Running this sequence through the model will result in indexing errors\n",
      "Token indices sequence length is longer than the specified maximum sequence length for this model (836 > 512). Running this sequence through the model will result in indexing errors\n",
      "Token indices sequence length is longer than the specified maximum sequence length for this model (863 > 512). Running this sequence through the model will result in indexing errors\n",
      "Token indices sequence length is longer than the specified maximum sequence length for this model (591 > 512). Running this sequence through the model will result in indexing errors\n",
      "Token indices sequence length is longer than the specified maximum sequence length for this model (669 > 512). Running this sequence through the model will result in indexing errors\n",
      "Token indices sequence length is longer than the specified maximum sequence length for this model (1138 > 512). Running this sequence through the model will result in indexing errors\n",
      "Token indices sequence length is longer than the specified maximum sequence length for this model (952 > 512). Running this sequence through the model will result in indexing errors\n",
      "Token indices sequence length is longer than the specified maximum sequence length for this model (519 > 512). Running this sequence through the model will result in indexing errors\n",
      "Token indices sequence length is longer than the specified maximum sequence length for this model (616 > 512). Running this sequence through the model will result in indexing errors\n",
      "Token indices sequence length is longer than the specified maximum sequence length for this model (825 > 512). Running this sequence through the model will result in indexing errors\n",
      "Token indices sequence length is longer than the specified maximum sequence length for this model (703 > 512). Running this sequence through the model will result in indexing errors\n",
      "Token indices sequence length is longer than the specified maximum sequence length for this model (997 > 512). Running this sequence through the model will result in indexing errors\n",
      "Token indices sequence length is longer than the specified maximum sequence length for this model (681 > 512). Running this sequence through the model will result in indexing errors\n",
      "Token indices sequence length is longer than the specified maximum sequence length for this model (1074 > 512). Running this sequence through the model will result in indexing errors\n",
      "Token indices sequence length is longer than the specified maximum sequence length for this model (823 > 512). Running this sequence through the model will result in indexing errors\n",
      "Token indices sequence length is longer than the specified maximum sequence length for this model (526 > 512). Running this sequence through the model will result in indexing errors\n",
      "Token indices sequence length is longer than the specified maximum sequence length for this model (1163 > 512). Running this sequence through the model will result in indexing errors\n",
      "Token indices sequence length is longer than the specified maximum sequence length for this model (548 > 512). Running this sequence through the model will result in indexing errors\n",
      "Token indices sequence length is longer than the specified maximum sequence length for this model (597 > 512). Running this sequence through the model will result in indexing errors\n",
      "Token indices sequence length is longer than the specified maximum sequence length for this model (920 > 512). Running this sequence through the model will result in indexing errors\n",
      "Token indices sequence length is longer than the specified maximum sequence length for this model (605 > 512). Running this sequence through the model will result in indexing errors\n",
      "Token indices sequence length is longer than the specified maximum sequence length for this model (513 > 512). Running this sequence through the model will result in indexing errors\n",
      "Token indices sequence length is longer than the specified maximum sequence length for this model (564 > 512). Running this sequence through the model will result in indexing errors\n",
      "Token indices sequence length is longer than the specified maximum sequence length for this model (1111 > 512). Running this sequence through the model will result in indexing errors\n",
      "Token indices sequence length is longer than the specified maximum sequence length for this model (1026 > 512). Running this sequence through the model will result in indexing errors\n",
      "Token indices sequence length is longer than the specified maximum sequence length for this model (630 > 512). Running this sequence through the model will result in indexing errors\n",
      "Token indices sequence length is longer than the specified maximum sequence length for this model (978 > 512). Running this sequence through the model will result in indexing errors\n",
      "Token indices sequence length is longer than the specified maximum sequence length for this model (540 > 512). Running this sequence through the model will result in indexing errors\n",
      "Token indices sequence length is longer than the specified maximum sequence length for this model (1111 > 512). Running this sequence through the model will result in indexing errors\n",
      "Token indices sequence length is longer than the specified maximum sequence length for this model (659 > 512). Running this sequence through the model will result in indexing errors\n",
      "Token indices sequence length is longer than the specified maximum sequence length for this model (732 > 512). Running this sequence through the model will result in indexing errors\n",
      "Token indices sequence length is longer than the specified maximum sequence length for this model (983 > 512). Running this sequence through the model will result in indexing errors\n",
      "Token indices sequence length is longer than the specified maximum sequence length for this model (1128 > 512). Running this sequence through the model will result in indexing errors\n",
      "Token indices sequence length is longer than the specified maximum sequence length for this model (566 > 512). Running this sequence through the model will result in indexing errors\n",
      "Token indices sequence length is longer than the specified maximum sequence length for this model (538 > 512). Running this sequence through the model will result in indexing errors\n",
      "Token indices sequence length is longer than the specified maximum sequence length for this model (926 > 512). Running this sequence through the model will result in indexing errors\n",
      "Token indices sequence length is longer than the specified maximum sequence length for this model (571 > 512). Running this sequence through the model will result in indexing errors\n",
      "Token indices sequence length is longer than the specified maximum sequence length for this model (978 > 512). Running this sequence through the model will result in indexing errors\n"
     ]
    },
    {
     "name": "stdout",
     "output_type": "stream",
     "text": [
      "CPU times: total: 9.56 s\n",
      "Wall time: 8.74 s\n"
     ]
    }
   ],
   "source": [
    "%%time\n",
    "\n",
    "# для ускорения работы ограничим максимальную длину\n",
    "max_len = 512\n",
    "\n",
    "tokenized = df_bert['text'].apply(\n",
    "    lambda x: tokenizer.encode(x, add_special_tokens=True, max_length=max_len))\n",
    "\n",
    "# выравнивание длины исходных текстов в корпусе после токенизации\n",
    "padded = np.array([i + [0]*(max_len - len(i)) for i in tokenized.values])\n",
    "\n",
    "# отбрасываем ненужные токены\n",
    "attention_mask = np.where(padded != 0, 1, 0)"
   ]
  },
  {
   "cell_type": "code",
   "execution_count": 28,
   "metadata": {},
   "outputs": [
    {
     "data": {
      "application/vnd.jupyter.widget-view+json": {
       "model_id": "1bff3164eb794573b05cebce203b988d",
       "version_major": 2,
       "version_minor": 0
      },
      "text/plain": [
       "  0%|          | 0/1000 [00:00<?, ?it/s]"
      ]
     },
     "metadata": {},
     "output_type": "display_data"
    }
   ],
   "source": [
    "batch_size = 10     # размер батча, для уменьшения затрат ОЗУ\n",
    "embeddings = []     # список для занесения эмбединггов со всех батчей\n",
    "\n",
    "for i in notebook.tqdm(range(padded.shape[0] // batch_size)):\n",
    "        batch = torch.LongTensor(padded[batch_size*i:batch_size*(i+1)]) \n",
    "        attention_mask_batch = torch.LongTensor(attention_mask[batch_size*i:batch_size*(i+1)])\n",
    "        \n",
    "        with torch.no_grad():\n",
    "            batch_embeddings = model(batch, attention_mask=attention_mask_batch)\n",
    "        \n",
    "        embeddings.append(batch_embeddings[0][:,0,:].numpy())        "
   ]
  },
  {
   "cell_type": "code",
   "execution_count": 29,
   "metadata": {},
   "outputs": [],
   "source": [
    "x_bert = np.concatenate(embeddings)   # объединение эмбедингов в фичи\n",
    "y_bert = df_bert['toxic']\n",
    "\n",
    "(x_train_bert, x_test_bert, \n",
    " y_train_bert, y_test_bert) = train_test_split(x_bert, y_bert, test_size=0.25)"
   ]
  },
  {
   "cell_type": "markdown",
   "metadata": {},
   "source": [
    "## 5.2 Обучение"
   ]
  },
  {
   "cell_type": "markdown",
   "metadata": {},
   "source": [
    "Строить модель будем на основе модели линейной регрессии, т.к. на предыдущем этапе она оказалась наилучшей:"
   ]
  },
  {
   "cell_type": "code",
   "execution_count": 44,
   "metadata": {},
   "outputs": [
    {
     "name": "stdout",
     "output_type": "stream",
     "text": [
      "CPU times: total: 0 ns\n",
      "Wall time: 0 ns\n"
     ]
    }
   ],
   "source": [
    "%%time\n",
    "\n",
    "params_lr_bert = { 'model__solver': ['saga'],      # 'saga' \n",
    "                   'model__C': range(3, 4),        # 3\n",
    "                   'model__class_weight': [None],  # None\n",
    "                   'model__random_state': [321]\n",
    "                }\n",
    "\n",
    "\n",
    "LR_bert = GridSearchCV( \n",
    "    estimator=Pipeline([('model', LogisticRegression())]),                        \n",
    "    param_grid=params_lr_bert,                  \n",
    "    scoring='f1',                    \n",
    "    cv=3  \n",
    ")         # 0.706"
   ]
  },
  {
   "cell_type": "code",
   "execution_count": 45,
   "metadata": {
    "scrolled": false
   },
   "outputs": [
    {
     "name": "stdout",
     "output_type": "stream",
     "text": [
      "Наилучшая f1 метрика BERT модели на кросс-валидации: 0.706\n",
      "\n",
      "Гиперпараметры:\n"
     ]
    },
    {
     "data": {
      "text/plain": [
       "{'model__C': 3,\n",
       " 'model__class_weight': None,\n",
       " 'model__random_state': 321,\n",
       " 'model__solver': 'saga'}"
      ]
     },
     "metadata": {},
     "output_type": "display_data"
    },
    {
     "name": "stdout",
     "output_type": "stream",
     "text": [
      "CPU times: total: 18.8 s\n",
      "Wall time: 15.9 s\n"
     ]
    }
   ],
   "source": [
    "%%time\n",
    "\n",
    "with warnings.catch_warnings():\n",
    "    warnings.filterwarnings(\"ignore\")\n",
    "    LR_bert.fit(x_train_bert, y_train_bert)\n",
    "    score_bert = LR_bert.best_score_  \n",
    "\n",
    "print('Наилучшая f1 метрика BERT модели на кросс-валидации: %.3f' % score_bert)\n",
    "print('\\nГиперпараметры:')\n",
    "display(LR_bert.best_params_)"
   ]
  },
  {
   "cell_type": "markdown",
   "metadata": {},
   "source": [
    "## 5.3 Тестирование"
   ]
  },
  {
   "cell_type": "markdown",
   "metadata": {},
   "source": [
    "Проверим построенную модель на тестовой выборке:"
   ]
  },
  {
   "cell_type": "code",
   "execution_count": 57,
   "metadata": {
    "scrolled": true
   },
   "outputs": [
    {
     "name": "stdout",
     "output_type": "stream",
     "text": [
      "f1 BERT модели на тесте = 0.705\n"
     ]
    }
   ],
   "source": [
    "predictions_bert = LR_bert.predict(x_test_bert)\n",
    "f1_score_test_bert = f1_score(y_test_bert, predictions_bert)\n",
    "\n",
    "print(f'f1 BERT модели на тесте = {f1_score_test_bert.round(3)}')"
   ]
  },
  {
   "cell_type": "markdown",
   "metadata": {},
   "source": [
    "Построим матрицу ошибок модели:"
   ]
  },
  {
   "cell_type": "code",
   "execution_count": 114,
   "metadata": {},
   "outputs": [
    {
     "data": {
      "image/png": "[encoded data removed]",
      "text/plain": [
       "<Figure size 640x480 with 2 Axes>"
      ]
     },
     "metadata": {},
     "output_type": "display_data"
    }
   ],
   "source": [
    "ConfusionMatrixDisplay.from_estimator(LR_bert, x_test_bert, y_test_bert, cmap='Blues')\n",
    "plt.title('Матрица ошибок BERT модели', fontsize=15)\n",
    "plt.show()"
   ]
  },
  {
   "cell_type": "markdown",
   "metadata": {},
   "source": [
    "<div class=\"alert alert-warning\" role=\"alert\"; style=\"border:groove rgb(57,136,235) 5px; padding: 40px\">\n",
    "\n",
    "<h1 align=\"center\", style=\"margin-bottom: 15px\">ВЫВОДЫ</h1>"
   ]
  },
  {
   "attachments": {},
   "cell_type": "markdown",
   "metadata": {},
   "source": [
    "<p style=\"margin-bottom: 20px\"></p> \n",
    "В результате работы были разработаны 2 модели классификации, определяющие токсичность текста.\n",
    "\n",
    "<p style=\"margin-bottom: 30px\"></p> \n",
    "1. <b>Модель 1</b>\n",
    "\n",
    "Разработана на базе модели логистической регрессии. Данные на которых обучалась модель были заранее обработаны следующим образом:\n",
    "- очистка - оставлены только символы английского алфавита в нижнем регистре\n",
    "- лемматизация - выделены леммы слов с помощью spacy лемматайзера \n",
    "- векторизация - текст преобразован в численную форму с помощью TF-DF векторайзера\n",
    "\n",
    "Всего было протестировано 3 алгоритма моделей машинного обучения. Метрика f1 моделей на кросс-валидации:\n",
    "\n",
    "<table>\n",
    "<tr>\n",
    "  <th>Модель</th>\n",
    "  <th>f1</th>\n",
    "</tr>\n",
    "<tr>\n",
    "  <td>LogisticRegression</td>\n",
    "  <td>0.76</td>\n",
    "</tr>\n",
    "<tr>\n",
    "  <td>DecisionTreeClassifier</td>\n",
    "  <td>0.716</td>\n",
    "</tr>\n",
    "<tr>\n",
    "  <td>CatBoostClassifier</td>\n",
    "  <td>0.714</td>\n",
    "</tr>\n",
    "</table>\n",
    "<p style=\"margin-bottom: 30px\"></p>\n",
    "\n",
    "По итогу выбрана наилучшая модель - модель линейной регрессии. \n",
    "\n",
    "В результате тестирования метрика качества модели **f1 = 0.752**\n",
    "\n",
    "<img src=\"https://drive.google.com/uc?export=view&id=1GA2_NVRbvH2VSFbf1KY42YT3oTsM8y9G\">\n",
    "\n",
    "<p style=\"margin-bottom: 30px\"></p>\n",
    "2. <b>Модель 2</b>\n",
    "\n",
    "Разработана на базе предобученной BERT модели. Данные заранее не обрабатывались.\n",
    "\n",
    "Из-за ограниченной мощности ПК полноценно прогнать весь датасет в этой моделе не удалось, поэтому была взята только случайная выборка из 10000 объектов. На предобработанных данных была обучена модель линейной регрессии и найдены наилучшие гиперпараметры. \n",
    "\n",
    "В результате тестирования метрика качества модели <b>f1 = 0.705</b>.\n",
    "<img src=\"https://drive.google.com/uc?export=view&id=1YLzut8T2-K6Q02KefUYyX31yhoToPCsy\">"
   ]
  }
 ],
 "metadata": {
  "ExecuteTimeLog": [
   {
    "duration": 1759,
    "start_time": "2023-03-15T06:25:15.897Z"
   },
   {
    "duration": 4,
    "start_time": "2023-03-15T06:25:17.658Z"
   },
   {
    "duration": 3788,
    "start_time": "2023-03-15T06:25:18.660Z"
   },
   {
    "duration": 120,
    "start_time": "2023-03-15T06:28:04.390Z"
   },
   {
    "duration": 42,
    "start_time": "2023-03-15T06:28:09.816Z"
   },
   {
    "duration": 39,
    "start_time": "2023-03-15T06:28:20.737Z"
   },
   {
    "duration": 38,
    "start_time": "2023-03-15T06:28:24.593Z"
   },
   {
    "duration": 36,
    "start_time": "2023-03-15T06:28:28.816Z"
   },
   {
    "duration": 74,
    "start_time": "2023-03-15T06:29:28.400Z"
   },
   {
    "duration": 72,
    "start_time": "2023-03-15T06:29:33.064Z"
   },
   {
    "duration": 5,
    "start_time": "2023-03-15T06:29:36.626Z"
   },
   {
    "duration": 65,
    "start_time": "2023-03-15T06:29:38.239Z"
   },
   {
    "duration": 13,
    "start_time": "2023-03-15T06:31:13.573Z"
   },
   {
    "duration": 231,
    "start_time": "2023-03-15T06:31:19.525Z"
   },
   {
    "duration": 200,
    "start_time": "2023-03-15T06:31:24.645Z"
   },
   {
    "duration": 202,
    "start_time": "2023-03-15T06:31:28.090Z"
   },
   {
    "duration": 201,
    "start_time": "2023-03-15T06:37:13.037Z"
   },
   {
    "duration": 200,
    "start_time": "2023-03-15T06:37:24.533Z"
   },
   {
    "duration": 984,
    "start_time": "2023-03-15T11:01:01.420Z"
   },
   {
    "duration": 2861,
    "start_time": "2023-03-16T10:30:13.928Z"
   },
   {
    "duration": 4,
    "start_time": "2023-03-16T10:30:19.840Z"
   },
   {
    "duration": 3,
    "start_time": "2023-03-16T10:30:37.512Z"
   },
   {
    "duration": 122,
    "start_time": "2023-03-16T10:30:45.940Z"
   },
   {
    "duration": 5,
    "start_time": "2023-03-16T10:30:51.549Z"
   },
   {
    "duration": 4,
    "start_time": "2023-03-16T10:30:52.448Z"
   },
   {
    "duration": 578,
    "start_time": "2023-03-16T10:30:53.736Z"
   },
   {
    "duration": 4,
    "start_time": "2023-03-16T10:31:01.761Z"
   },
   {
    "duration": 3,
    "start_time": "2023-03-16T10:31:16.809Z"
   },
   {
    "duration": 4,
    "start_time": "2023-03-16T10:31:17.501Z"
   },
   {
    "duration": 4,
    "start_time": "2023-03-16T10:31:24.276Z"
   },
   {
    "duration": 4,
    "start_time": "2023-03-16T10:31:25.212Z"
   },
   {
    "duration": 3,
    "start_time": "2023-03-16T10:32:01.073Z"
   },
   {
    "duration": 16,
    "start_time": "2023-03-16T10:32:01.718Z"
   },
   {
    "duration": 3,
    "start_time": "2023-03-16T10:32:04.980Z"
   },
   {
    "duration": 12,
    "start_time": "2023-03-16T10:32:06.188Z"
   },
   {
    "duration": 3,
    "start_time": "2023-03-16T10:32:10.438Z"
   },
   {
    "duration": 12,
    "start_time": "2023-03-16T10:32:11.157Z"
   },
   {
    "duration": 4,
    "start_time": "2023-03-16T10:32:18.561Z"
   },
   {
    "duration": 7,
    "start_time": "2023-03-16T10:32:19.588Z"
   },
   {
    "duration": 3,
    "start_time": "2023-03-16T10:33:03.402Z"
   },
   {
    "duration": 4,
    "start_time": "2023-03-16T10:33:06.432Z"
   },
   {
    "duration": 3,
    "start_time": "2023-03-16T10:33:13.836Z"
   },
   {
    "duration": 3,
    "start_time": "2023-03-16T10:33:16.753Z"
   },
   {
    "duration": 5,
    "start_time": "2023-03-16T10:34:03.472Z"
   },
   {
    "duration": 5,
    "start_time": "2023-03-16T10:34:04.754Z"
   },
   {
    "duration": 5,
    "start_time": "2023-03-16T10:34:22.213Z"
   },
   {
    "duration": 5,
    "start_time": "2023-03-16T10:34:23.389Z"
   },
   {
    "duration": 3,
    "start_time": "2023-03-16T10:34:35.601Z"
   },
   {
    "duration": 4,
    "start_time": "2023-03-16T10:34:36.206Z"
   },
   {
    "duration": 3,
    "start_time": "2023-03-16T10:34:48.560Z"
   },
   {
    "duration": 4,
    "start_time": "2023-03-16T10:34:49.444Z"
   },
   {
    "duration": 3,
    "start_time": "2023-03-16T10:35:59.425Z"
   },
   {
    "duration": 4,
    "start_time": "2023-03-16T10:36:01.378Z"
   },
   {
    "duration": 3,
    "start_time": "2023-03-16T10:36:20.608Z"
   },
   {
    "duration": 4,
    "start_time": "2023-03-16T10:36:21.454Z"
   },
   {
    "duration": 3,
    "start_time": "2023-03-16T10:36:30.320Z"
   },
   {
    "duration": 16,
    "start_time": "2023-03-16T10:36:32.216Z"
   },
   {
    "duration": 4,
    "start_time": "2023-03-16T10:36:43.349Z"
   },
   {
    "duration": 4,
    "start_time": "2023-03-16T10:36:45.485Z"
   },
   {
    "duration": 69,
    "start_time": "2023-03-16T10:37:06.985Z"
   },
   {
    "duration": 67,
    "start_time": "2023-03-16T10:37:10.136Z"
   },
   {
    "duration": 3,
    "start_time": "2023-03-16T10:37:14.774Z"
   },
   {
    "duration": 4,
    "start_time": "2023-03-16T10:37:15.649Z"
   },
   {
    "duration": 3,
    "start_time": "2023-03-16T10:37:20.217Z"
   },
   {
    "duration": 4,
    "start_time": "2023-03-16T10:37:20.729Z"
   },
   {
    "duration": 4,
    "start_time": "2023-03-16T10:37:28.159Z"
   },
   {
    "duration": 5,
    "start_time": "2023-03-16T10:37:29.305Z"
   },
   {
    "duration": 3,
    "start_time": "2023-03-16T10:37:56.529Z"
   },
   {
    "duration": 14,
    "start_time": "2023-03-16T10:37:57.757Z"
   },
   {
    "duration": 3,
    "start_time": "2023-03-16T10:38:06.704Z"
   },
   {
    "duration": 15,
    "start_time": "2023-03-16T10:38:07.316Z"
   },
   {
    "duration": 2,
    "start_time": "2023-03-16T10:38:26.413Z"
   },
   {
    "duration": 4,
    "start_time": "2023-03-16T10:38:27.797Z"
   },
   {
    "duration": 3,
    "start_time": "2023-03-16T10:38:51.940Z"
   },
   {
    "duration": 4,
    "start_time": "2023-03-16T10:38:52.772Z"
   },
   {
    "duration": 3,
    "start_time": "2023-03-16T10:38:59.340Z"
   },
   {
    "duration": 4,
    "start_time": "2023-03-16T10:39:00.996Z"
   },
   {
    "duration": 3,
    "start_time": "2023-03-16T10:39:16.948Z"
   },
   {
    "duration": 4,
    "start_time": "2023-03-16T10:39:17.893Z"
   },
   {
    "duration": 4,
    "start_time": "2023-03-16T10:39:23.540Z"
   },
   {
    "duration": 4,
    "start_time": "2023-03-16T10:39:25.469Z"
   },
   {
    "duration": 3,
    "start_time": "2023-03-16T10:39:35.781Z"
   },
   {
    "duration": 4,
    "start_time": "2023-03-16T10:39:36.657Z"
   },
   {
    "duration": 3,
    "start_time": "2023-03-16T10:39:39.110Z"
   },
   {
    "duration": 3,
    "start_time": "2023-03-16T10:39:39.797Z"
   },
   {
    "duration": 3,
    "start_time": "2023-03-16T10:39:58.976Z"
   },
   {
    "duration": 3,
    "start_time": "2023-03-16T10:39:59.604Z"
   },
   {
    "duration": 3,
    "start_time": "2023-03-16T10:41:18.260Z"
   },
   {
    "duration": 3,
    "start_time": "2023-03-16T10:41:20.062Z"
   },
   {
    "duration": 3,
    "start_time": "2023-03-16T10:41:28.564Z"
   },
   {
    "duration": 3,
    "start_time": "2023-03-16T10:41:30.333Z"
   },
   {
    "duration": 3,
    "start_time": "2023-03-16T10:41:38.340Z"
   },
   {
    "duration": 4,
    "start_time": "2023-03-16T10:41:40.101Z"
   },
   {
    "duration": 2,
    "start_time": "2023-03-16T10:41:48.629Z"
   },
   {
    "duration": 3,
    "start_time": "2023-03-16T10:41:50.397Z"
   },
   {
    "duration": 3,
    "start_time": "2023-03-16T10:41:59.981Z"
   },
   {
    "duration": 4,
    "start_time": "2023-03-16T10:42:02.930Z"
   },
   {
    "duration": 4,
    "start_time": "2023-03-16T10:42:17.860Z"
   },
   {
    "duration": 13,
    "start_time": "2023-03-16T10:42:19.540Z"
   },
   {
    "duration": 3,
    "start_time": "2023-03-16T10:42:27.805Z"
   },
   {
    "duration": 3,
    "start_time": "2023-03-16T10:42:46.878Z"
   },
   {
    "duration": 3,
    "start_time": "2023-03-16T10:42:48.445Z"
   },
   {
    "duration": 3,
    "start_time": "2023-03-16T10:42:52.617Z"
   },
   {
    "duration": 4,
    "start_time": "2023-03-16T10:42:54.305Z"
   },
   {
    "duration": 4,
    "start_time": "2023-03-16T10:43:12.297Z"
   },
   {
    "duration": 4,
    "start_time": "2023-03-16T10:43:13.036Z"
   },
   {
    "duration": 4,
    "start_time": "2023-03-16T10:43:31.236Z"
   },
   {
    "duration": 5,
    "start_time": "2023-03-16T10:43:31.761Z"
   },
   {
    "duration": 3,
    "start_time": "2023-03-16T10:43:38.767Z"
   },
   {
    "duration": 3,
    "start_time": "2023-03-16T10:43:39.566Z"
   },
   {
    "duration": 3,
    "start_time": "2023-03-16T10:44:27.141Z"
   },
   {
    "duration": 4,
    "start_time": "2023-03-16T10:44:28.129Z"
   },
   {
    "duration": 3,
    "start_time": "2023-03-16T10:44:34.163Z"
   },
   {
    "duration": 3,
    "start_time": "2023-03-16T10:44:34.924Z"
   },
   {
    "duration": 1794,
    "start_time": "2023-03-16T10:48:26.049Z"
   },
   {
    "duration": 4,
    "start_time": "2023-03-16T10:48:27.844Z"
   },
   {
    "duration": 3485,
    "start_time": "2023-03-16T10:48:27.849Z"
   },
   {
    "duration": 43,
    "start_time": "2023-03-16T10:48:31.336Z"
   },
   {
    "duration": 4,
    "start_time": "2023-03-16T10:48:31.382Z"
   },
   {
    "duration": 87,
    "start_time": "2023-03-16T10:48:31.387Z"
   },
   {
    "duration": 210,
    "start_time": "2023-03-16T10:48:31.476Z"
   },
   {
    "duration": 3,
    "start_time": "2023-03-16T10:48:31.688Z"
   },
   {
    "duration": 26,
    "start_time": "2023-03-16T10:48:31.692Z"
   },
   {
    "duration": 68711,
    "start_time": "2023-03-16T10:48:31.720Z"
   },
   {
    "duration": 10,
    "start_time": "2023-03-16T10:51:21.825Z"
   },
   {
    "duration": 9,
    "start_time": "2023-03-16T10:51:24.336Z"
   },
   {
    "duration": 33,
    "start_time": "2023-03-16T11:02:00.292Z"
   },
   {
    "duration": 2004,
    "start_time": "2023-03-16T11:04:19.988Z"
   },
   {
    "duration": 16,
    "start_time": "2023-03-16T11:05:12.464Z"
   },
   {
    "duration": 129,
    "start_time": "2023-03-16T11:13:59.276Z"
   },
   {
    "duration": 107,
    "start_time": "2023-03-16T11:14:04.888Z"
   },
   {
    "duration": 7,
    "start_time": "2023-03-16T11:16:24.616Z"
   },
   {
    "duration": 9,
    "start_time": "2023-03-16T11:17:39.137Z"
   },
   {
    "duration": 7,
    "start_time": "2023-03-16T11:17:48.780Z"
   },
   {
    "duration": 11,
    "start_time": "2023-03-16T11:17:54.056Z"
   },
   {
    "duration": 5,
    "start_time": "2023-03-16T11:18:01.308Z"
   },
   {
    "duration": 8,
    "start_time": "2023-03-16T11:37:44.344Z"
   },
   {
    "duration": 7,
    "start_time": "2023-03-16T11:37:52.500Z"
   },
   {
    "duration": 10,
    "start_time": "2023-03-16T11:37:57.188Z"
   },
   {
    "duration": 5,
    "start_time": "2023-03-16T11:38:06.117Z"
   },
   {
    "duration": 125,
    "start_time": "2023-03-16T11:42:51.652Z"
   },
   {
    "duration": 7,
    "start_time": "2023-03-16T11:44:01.624Z"
   },
   {
    "duration": 1280,
    "start_time": "2023-03-16T11:44:06.754Z"
   },
   {
    "duration": 17871,
    "start_time": "2023-03-16T11:44:19.220Z"
   },
   {
    "duration": 5,
    "start_time": "2023-03-16T11:44:49.197Z"
   },
   {
    "duration": 13,
    "start_time": "2023-03-16T11:44:55.915Z"
   },
   {
    "duration": 30,
    "start_time": "2023-03-16T11:45:45.002Z"
   },
   {
    "duration": 12,
    "start_time": "2023-03-16T11:46:48.685Z"
   },
   {
    "duration": 3,
    "start_time": "2023-03-16T11:47:03.753Z"
   },
   {
    "duration": 2252,
    "start_time": "2023-03-17T10:29:48.651Z"
   },
   {
    "duration": 3264,
    "start_time": "2023-03-17T10:29:50.905Z"
   },
   {
    "duration": 4,
    "start_time": "2023-03-17T10:29:54.171Z"
   },
   {
    "duration": 1554,
    "start_time": "2023-03-17T10:29:54.177Z"
   },
   {
    "duration": 106,
    "start_time": "2023-03-17T10:29:55.734Z"
   },
   {
    "duration": 294,
    "start_time": "2023-03-17T10:29:55.841Z"
   },
   {
    "duration": 6,
    "start_time": "2023-03-17T10:29:56.137Z"
   },
   {
    "duration": 11,
    "start_time": "2023-03-17T10:29:56.144Z"
   },
   {
    "duration": 116,
    "start_time": "2023-03-17T10:29:56.156Z"
   },
   {
    "duration": 499,
    "start_time": "2023-03-17T10:29:56.274Z"
   },
   {
    "duration": 58,
    "start_time": "2023-03-17T10:29:56.774Z"
   },
   {
    "duration": 11,
    "start_time": "2023-03-17T10:29:56.834Z"
   },
   {
    "duration": 86319,
    "start_time": "2023-03-17T10:29:56.847Z"
   },
   {
    "duration": 48,
    "start_time": "2023-03-17T10:31:23.169Z"
   },
   {
    "duration": 16462,
    "start_time": "2023-03-17T10:31:23.219Z"
   },
   {
    "duration": 137856,
    "start_time": "2023-03-17T10:31:39.684Z"
   },
   {
    "duration": 32022,
    "start_time": "2023-03-17T10:34:11.842Z"
   },
   {
    "duration": 21021,
    "start_time": "2023-03-17T10:35:28.535Z"
   },
   {
    "duration": 9271,
    "start_time": "2023-03-17T10:36:03.591Z"
   },
   {
    "duration": 9013,
    "start_time": "2023-03-17T10:36:21.478Z"
   },
   {
    "duration": 21576,
    "start_time": "2023-03-17T10:36:36.086Z"
   },
   {
    "duration": 102009,
    "start_time": "2023-03-17T10:37:07.429Z"
   },
   {
    "duration": 59213,
    "start_time": "2023-03-17T10:39:00.789Z"
   },
   {
    "duration": 31166,
    "start_time": "2023-03-17T10:40:06.895Z"
   },
   {
    "duration": 9387,
    "start_time": "2023-03-17T10:40:45.953Z"
   },
   {
    "duration": 13983,
    "start_time": "2023-03-17T10:41:01.960Z"
   },
   {
    "duration": 28668,
    "start_time": "2023-03-17T10:41:43.183Z"
   },
   {
    "duration": 4,
    "start_time": "2023-03-17T10:42:27.274Z"
   },
   {
    "duration": 70936,
    "start_time": "2023-03-17T10:42:49.901Z"
   },
   {
    "duration": 4,
    "start_time": "2023-03-17T10:52:44.064Z"
   },
   {
    "duration": 73044,
    "start_time": "2023-03-17T10:53:17.017Z"
   },
   {
    "duration": 4,
    "start_time": "2023-03-17T10:54:33.375Z"
   },
   {
    "duration": 21844,
    "start_time": "2023-03-17T10:55:17.640Z"
   },
   {
    "duration": 4,
    "start_time": "2023-03-17T10:55:59.789Z"
   },
   {
    "duration": 22315,
    "start_time": "2023-03-17T11:00:24.559Z"
   },
   {
    "duration": 22140,
    "start_time": "2023-03-17T11:00:55.735Z"
   },
   {
    "duration": 35279,
    "start_time": "2023-03-17T11:05:09.961Z"
   },
   {
    "duration": 3,
    "start_time": "2023-03-17T11:05:54.776Z"
   },
   {
    "duration": 5,
    "start_time": "2023-03-17T11:05:57.495Z"
   },
   {
    "duration": 34667,
    "start_time": "2023-03-17T11:06:38.951Z"
   },
   {
    "duration": 4,
    "start_time": "2023-03-17T11:07:28.142Z"
   },
   {
    "duration": 124356,
    "start_time": "2023-03-17T11:07:57.358Z"
   },
   {
    "duration": 4,
    "start_time": "2023-03-17T11:10:18.762Z"
   },
   {
    "duration": 21752,
    "start_time": "2023-03-17T11:11:07.521Z"
   },
   {
    "duration": 25892,
    "start_time": "2023-03-17T11:11:58.792Z"
   },
   {
    "duration": 334,
    "start_time": "2023-03-17T11:12:33.464Z"
   },
   {
    "duration": 327,
    "start_time": "2023-03-17T11:12:54.575Z"
   },
   {
    "duration": 25483,
    "start_time": "2023-03-17T11:14:22.199Z"
   },
   {
    "duration": 181879,
    "start_time": "2023-03-17T11:15:01.701Z"
   },
   {
    "duration": 4,
    "start_time": "2023-03-17T11:18:12.641Z"
   },
   {
    "duration": 997784,
    "start_time": "2023-03-17T11:18:41.544Z"
   },
   {
    "duration": 4,
    "start_time": "2023-03-17T11:35:48.297Z"
   },
   {
    "duration": 500209,
    "start_time": "2023-03-17T11:36:24.897Z"
   },
   {
    "duration": 5,
    "start_time": "2023-03-17T11:52:41.275Z"
   },
   {
    "duration": 697948,
    "start_time": "2023-03-17T11:52:59.499Z"
   },
   {
    "duration": 4,
    "start_time": "2023-03-17T12:06:18.857Z"
   },
   {
    "duration": 114109,
    "start_time": "2023-03-17T12:06:53.233Z"
   },
   {
    "duration": 170554,
    "start_time": "2023-03-17T12:09:09.278Z"
   },
   {
    "duration": 33335,
    "start_time": "2023-03-17T12:11:59.835Z"
   },
   {
    "duration": 60,
    "start_time": "2023-03-17T12:16:18.405Z"
   },
   {
    "duration": 588,
    "start_time": "2023-03-17T12:16:42.540Z"
   },
   {
    "duration": 236,
    "start_time": "2023-03-17T12:16:50.828Z"
   },
   {
    "duration": 937,
    "start_time": "2023-03-17T12:17:00.036Z"
   },
   {
    "duration": 699,
    "start_time": "2023-03-17T12:17:52.524Z"
   },
   {
    "duration": 903,
    "start_time": "2023-03-17T12:17:56.188Z"
   },
   {
    "duration": 985,
    "start_time": "2023-03-17T12:18:00.387Z"
   },
   {
    "duration": 52,
    "start_time": "2023-03-17T12:23:23.924Z"
   },
   {
    "duration": 537,
    "start_time": "2023-03-17T12:23:52.516Z"
   },
   {
    "duration": 68045,
    "start_time": "2023-03-17T12:26:24.107Z"
   },
   {
    "duration": 4,
    "start_time": "2023-03-17T12:27:32.154Z"
   },
   {
    "duration": 68624,
    "start_time": "2023-03-17T12:34:19.974Z"
   },
   {
    "duration": 4,
    "start_time": "2023-03-17T13:01:03.684Z"
   },
   {
    "duration": 72575,
    "start_time": "2023-03-17T13:01:10.533Z"
   },
   {
    "duration": 126,
    "start_time": "2023-03-17T13:26:41.247Z"
   },
   {
    "duration": 2578,
    "start_time": "2023-03-17T13:26:55.499Z"
   },
   {
    "duration": 2028,
    "start_time": "2023-03-17T13:26:58.079Z"
   },
   {
    "duration": 4,
    "start_time": "2023-03-17T13:27:00.109Z"
   },
   {
    "duration": 1452,
    "start_time": "2023-03-17T13:27:00.115Z"
   },
   {
    "duration": 46,
    "start_time": "2023-03-17T13:27:01.569Z"
   },
   {
    "duration": 143,
    "start_time": "2023-03-17T13:27:01.618Z"
   },
   {
    "duration": 6,
    "start_time": "2023-03-17T13:27:01.763Z"
   },
   {
    "duration": 25,
    "start_time": "2023-03-17T13:27:01.771Z"
   },
   {
    "duration": 100,
    "start_time": "2023-03-17T13:27:01.799Z"
   },
   {
    "duration": 272,
    "start_time": "2023-03-17T13:27:01.902Z"
   },
   {
    "duration": 3,
    "start_time": "2023-03-17T13:27:02.176Z"
   },
   {
    "duration": 20,
    "start_time": "2023-03-17T13:27:02.181Z"
   },
   {
    "duration": 88271,
    "start_time": "2023-03-17T13:27:02.203Z"
   },
   {
    "duration": 37,
    "start_time": "2023-03-17T13:28:30.476Z"
   },
   {
    "duration": 18170,
    "start_time": "2023-03-17T13:28:30.531Z"
   },
   {
    "duration": 163338,
    "start_time": "2023-03-17T13:44:06.277Z"
   },
   {
    "duration": 5,
    "start_time": "2023-03-17T13:55:07.525Z"
   },
   {
    "duration": 108902,
    "start_time": "2023-03-17T13:55:20.262Z"
   },
   {
    "duration": 4,
    "start_time": "2023-03-17T14:00:26.491Z"
   },
   {
    "duration": 106,
    "start_time": "2023-03-17T14:16:38.807Z"
   },
   {
    "duration": 60,
    "start_time": "2023-03-17T14:16:45.723Z"
   },
   {
    "duration": 2423,
    "start_time": "2023-03-17T14:17:06.510Z"
   },
   {
    "duration": 2061,
    "start_time": "2023-03-17T14:17:08.936Z"
   },
   {
    "duration": 4,
    "start_time": "2023-03-17T14:17:10.999Z"
   },
   {
    "duration": 1495,
    "start_time": "2023-03-17T14:17:11.006Z"
   },
   {
    "duration": 59,
    "start_time": "2023-03-17T14:17:12.503Z"
   },
   {
    "duration": 168,
    "start_time": "2023-03-17T14:17:12.565Z"
   },
   {
    "duration": 9,
    "start_time": "2023-03-17T14:17:12.736Z"
   },
   {
    "duration": 16,
    "start_time": "2023-03-17T14:17:12.748Z"
   },
   {
    "duration": 105,
    "start_time": "2023-03-17T14:17:12.767Z"
   },
   {
    "duration": 289,
    "start_time": "2023-03-17T14:17:12.876Z"
   },
   {
    "duration": 3,
    "start_time": "2023-03-17T14:17:13.167Z"
   },
   {
    "duration": 17,
    "start_time": "2023-03-17T14:17:13.173Z"
   },
   {
    "duration": 96156,
    "start_time": "2023-03-17T14:17:13.198Z"
   },
   {
    "duration": 35,
    "start_time": "2023-03-17T14:18:49.356Z"
   },
   {
    "duration": 17466,
    "start_time": "2023-03-17T14:18:49.392Z"
   },
   {
    "duration": 2482,
    "start_time": "2023-03-17T14:35:16.271Z"
   },
   {
    "duration": 2088,
    "start_time": "2023-03-17T14:35:18.756Z"
   },
   {
    "duration": 5,
    "start_time": "2023-03-17T14:35:20.846Z"
   },
   {
    "duration": 1502,
    "start_time": "2023-03-17T14:35:20.853Z"
   },
   {
    "duration": 47,
    "start_time": "2023-03-17T14:35:22.357Z"
   },
   {
    "duration": 132,
    "start_time": "2023-03-17T14:35:22.406Z"
   },
   {
    "duration": 9,
    "start_time": "2023-03-17T14:35:22.540Z"
   },
   {
    "duration": 7,
    "start_time": "2023-03-17T14:35:22.551Z"
   },
   {
    "duration": 92,
    "start_time": "2023-03-17T14:35:22.560Z"
   },
   {
    "duration": 256,
    "start_time": "2023-03-17T14:35:22.654Z"
   },
   {
    "duration": 4,
    "start_time": "2023-03-17T14:35:22.912Z"
   },
   {
    "duration": 23,
    "start_time": "2023-03-17T14:35:22.918Z"
   },
   {
    "duration": 96219,
    "start_time": "2023-03-17T14:35:22.947Z"
   },
   {
    "duration": 39,
    "start_time": "2023-03-17T14:36:59.168Z"
   },
   {
    "duration": 19512,
    "start_time": "2023-03-17T14:36:59.209Z"
   },
   {
    "duration": 210472,
    "start_time": "2023-03-17T14:39:02.548Z"
   },
   {
    "duration": 5,
    "start_time": "2023-03-17T15:00:18.659Z"
   },
   {
    "duration": 2392,
    "start_time": "2023-03-17T15:48:41.298Z"
   },
   {
    "duration": 357,
    "start_time": "2023-03-17T15:48:43.694Z"
   },
   {
    "duration": 5,
    "start_time": "2023-03-17T15:48:44.053Z"
   },
   {
    "duration": 970,
    "start_time": "2023-03-17T15:48:44.060Z"
   },
   {
    "duration": 46,
    "start_time": "2023-03-17T15:48:45.032Z"
   },
   {
    "duration": 124,
    "start_time": "2023-03-17T15:48:45.080Z"
   },
   {
    "duration": 5,
    "start_time": "2023-03-17T15:48:45.206Z"
   },
   {
    "duration": 19,
    "start_time": "2023-03-17T15:48:45.213Z"
   },
   {
    "duration": 65,
    "start_time": "2023-03-17T15:48:45.234Z"
   },
   {
    "duration": 246,
    "start_time": "2023-03-17T15:48:45.301Z"
   },
   {
    "duration": 38,
    "start_time": "2023-03-17T15:48:45.550Z"
   },
   {
    "duration": 5,
    "start_time": "2023-03-17T15:48:45.590Z"
   },
   {
    "duration": 89635,
    "start_time": "2023-03-17T15:48:45.596Z"
   },
   {
    "duration": 58,
    "start_time": "2023-03-17T15:50:15.233Z"
   },
   {
    "duration": 17030,
    "start_time": "2023-03-17T15:50:15.294Z"
   },
   {
    "duration": 38686,
    "start_time": "2023-03-17T15:50:32.330Z"
   },
   {
    "duration": 4,
    "start_time": "2023-03-17T15:51:11.018Z"
   },
   {
    "duration": 118047,
    "start_time": "2023-03-17T15:51:11.030Z"
   },
   {
    "duration": 5,
    "start_time": "2023-03-17T15:53:09.080Z"
   },
   {
    "duration": 643557,
    "start_time": "2023-03-17T15:53:09.087Z"
   },
   {
    "duration": 4,
    "start_time": "2023-03-17T16:03:52.646Z"
   },
   {
    "duration": 9,
    "start_time": "2023-03-17T16:07:32.029Z"
   },
   {
    "duration": 960348,
    "start_time": "2023-03-17T16:07:45.836Z"
   },
   {
    "duration": 4,
    "start_time": "2023-03-17T16:35:42.091Z"
   },
   {
    "duration": 1261952,
    "start_time": "2023-03-17T16:35:52.571Z"
   },
   {
    "duration": 5,
    "start_time": "2023-03-17T17:02:23.445Z"
   },
   {
    "duration": 32,
    "start_time": "2023-03-17T17:04:57.397Z"
   },
   {
    "duration": 2719,
    "start_time": "2023-03-17T17:05:02.544Z"
   },
   {
    "duration": 3,
    "start_time": "2023-03-17T17:15:13.082Z"
   },
   {
    "duration": 41,
    "start_time": "2023-03-17T17:15:15.307Z"
   },
   {
    "duration": 4,
    "start_time": "2023-03-17T17:15:26.073Z"
   },
   {
    "duration": 11931,
    "start_time": "2023-03-17T17:15:26.839Z"
   },
   {
    "duration": 13,
    "start_time": "2023-03-17T17:16:37.146Z"
   },
   {
    "duration": 19,
    "start_time": "2023-03-17T17:16:40.800Z"
   },
   {
    "duration": 14,
    "start_time": "2023-03-17T17:16:50.625Z"
   },
   {
    "duration": 4,
    "start_time": "2023-03-17T17:17:02.114Z"
   },
   {
    "duration": 47295,
    "start_time": "2023-03-17T17:17:03.189Z"
   },
   {
    "duration": 4,
    "start_time": "2023-03-17T17:18:08.163Z"
   },
   {
    "duration": 254136,
    "start_time": "2023-03-17T17:18:16.578Z"
   },
   {
    "duration": 173493,
    "start_time": "2023-03-17T17:22:30.716Z"
   },
   {
    "duration": 12,
    "start_time": "2023-03-17T17:30:13.199Z"
   },
   {
    "duration": 12551,
    "start_time": "2023-03-17T17:30:21.597Z"
   },
   {
    "duration": 12241,
    "start_time": "2023-03-17T17:30:42.647Z"
   },
   {
    "duration": 12402,
    "start_time": "2023-03-17T17:31:44.648Z"
   },
   {
    "duration": 12496,
    "start_time": "2023-03-17T17:32:54.028Z"
   },
   {
    "duration": 45366,
    "start_time": "2023-03-21T20:36:12.626Z"
   },
   {
    "duration": 7,
    "start_time": "2023-03-21T20:38:14.732Z"
   },
   {
    "duration": 2842,
    "start_time": "2023-03-21T20:38:16.526Z"
   },
   {
    "duration": 7,
    "start_time": "2023-03-21T20:38:19.370Z"
   },
   {
    "duration": 10,
    "start_time": "2023-03-21T20:38:30.752Z"
   },
   {
    "duration": 50,
    "start_time": "2023-03-21T20:38:33.396Z"
   },
   {
    "duration": 129,
    "start_time": "2023-03-21T20:38:34.978Z"
   },
   {
    "duration": 17,
    "start_time": "2023-03-21T20:38:44.588Z"
   },
   {
    "duration": 3,
    "start_time": "2023-03-21T20:38:45.332Z"
   },
   {
    "duration": 19,
    "start_time": "2023-03-21T20:38:46.278Z"
   },
   {
    "duration": 111,
    "start_time": "2023-03-21T20:38:47.872Z"
   },
   {
    "duration": 5,
    "start_time": "2023-03-21T20:38:48.881Z"
   },
   {
    "duration": 6,
    "start_time": "2023-03-21T20:38:51.694Z"
   },
   {
    "duration": 38,
    "start_time": "2023-03-21T20:38:52.557Z"
   },
   {
    "duration": 5,
    "start_time": "2023-03-21T20:38:53.448Z"
   },
   {
    "duration": 3,
    "start_time": "2023-03-21T20:38:55.037Z"
   },
   {
    "duration": 2,
    "start_time": "2023-03-21T20:38:55.619Z"
   },
   {
    "duration": 1364,
    "start_time": "2023-03-21T20:38:55.814Z"
   },
   {
    "duration": 988,
    "start_time": "2023-03-21T20:38:57.180Z"
   },
   {
    "duration": 8,
    "start_time": "2023-03-21T20:39:00.924Z"
   },
   {
    "duration": 6,
    "start_time": "2023-03-21T20:39:02.011Z"
   },
   {
    "duration": 5,
    "start_time": "2023-03-21T20:39:04.457Z"
   },
   {
    "duration": 5,
    "start_time": "2023-03-21T20:39:04.837Z"
   },
   {
    "duration": 3,
    "start_time": "2023-03-21T20:39:05.510Z"
   },
   {
    "duration": 4,
    "start_time": "2023-03-21T20:39:07.199Z"
   },
   {
    "duration": 4,
    "start_time": "2023-03-21T20:39:07.994Z"
   },
   {
    "duration": 411,
    "start_time": "2023-03-21T20:39:12.002Z"
   },
   {
    "duration": 8,
    "start_time": "2023-03-21T20:39:21.195Z"
   },
   {
    "duration": 2149,
    "start_time": "2023-03-21T20:39:32.090Z"
   },
   {
    "duration": 8588,
    "start_time": "2023-03-22T10:15:29.744Z"
   },
   {
    "duration": 9774,
    "start_time": "2023-03-22T10:15:38.335Z"
   },
   {
    "duration": 7324,
    "start_time": "2023-03-22T10:15:48.111Z"
   },
   {
    "duration": 7,
    "start_time": "2023-03-22T10:15:55.437Z"
   },
   {
    "duration": 2942,
    "start_time": "2023-03-22T10:15:55.446Z"
   },
   {
    "duration": 7,
    "start_time": "2023-03-22T10:15:58.390Z"
   },
   {
    "duration": 11,
    "start_time": "2023-03-22T10:15:58.398Z"
   },
   {
    "duration": 39,
    "start_time": "2023-03-22T10:15:58.411Z"
   },
   {
    "duration": 54,
    "start_time": "2023-03-22T10:15:58.453Z"
   },
   {
    "duration": 131,
    "start_time": "2023-03-22T10:15:58.511Z"
   },
   {
    "duration": 6,
    "start_time": "2023-03-22T10:15:58.643Z"
   },
   {
    "duration": 10,
    "start_time": "2023-03-22T10:15:58.650Z"
   },
   {
    "duration": 83,
    "start_time": "2023-03-22T10:15:58.661Z"
   },
   {
    "duration": 267,
    "start_time": "2023-03-22T10:15:58.746Z"
   },
   {
    "duration": 3,
    "start_time": "2023-03-22T10:15:59.015Z"
   },
   {
    "duration": 7,
    "start_time": "2023-03-22T10:15:59.019Z"
   },
   {
    "duration": 628,
    "start_time": "2023-03-22T10:15:59.028Z"
   },
   {
    "duration": 135460,
    "start_time": "2023-03-22T10:15:59.658Z"
   },
   {
    "duration": 0,
    "start_time": "2023-03-22T10:18:15.121Z"
   },
   {
    "duration": 0,
    "start_time": "2023-03-22T10:18:15.123Z"
   },
   {
    "duration": 0,
    "start_time": "2023-03-22T10:18:15.123Z"
   },
   {
    "duration": 0,
    "start_time": "2023-03-22T10:18:15.125Z"
   },
   {
    "duration": 0,
    "start_time": "2023-03-22T10:18:15.129Z"
   },
   {
    "duration": 0,
    "start_time": "2023-03-22T10:18:15.130Z"
   },
   {
    "duration": 0,
    "start_time": "2023-03-22T10:18:15.131Z"
   },
   {
    "duration": 0,
    "start_time": "2023-03-22T10:18:15.132Z"
   },
   {
    "duration": 0,
    "start_time": "2023-03-22T10:18:15.134Z"
   },
   {
    "duration": 0,
    "start_time": "2023-03-22T10:18:15.136Z"
   },
   {
    "duration": 0,
    "start_time": "2023-03-22T10:18:15.137Z"
   },
   {
    "duration": 0,
    "start_time": "2023-03-22T10:18:15.139Z"
   },
   {
    "duration": 0,
    "start_time": "2023-03-22T10:18:15.140Z"
   },
   {
    "duration": 0,
    "start_time": "2023-03-22T10:18:15.141Z"
   },
   {
    "duration": 0,
    "start_time": "2023-03-22T10:18:15.142Z"
   },
   {
    "duration": 0,
    "start_time": "2023-03-22T10:18:15.145Z"
   },
   {
    "duration": 8668,
    "start_time": "2023-03-22T10:22:24.508Z"
   },
   {
    "duration": 7749,
    "start_time": "2023-03-22T10:22:33.179Z"
   },
   {
    "duration": 5020,
    "start_time": "2023-03-22T10:22:40.930Z"
   },
   {
    "duration": 15,
    "start_time": "2023-03-22T10:22:45.953Z"
   },
   {
    "duration": 2138,
    "start_time": "2023-03-22T10:22:45.970Z"
   },
   {
    "duration": 5,
    "start_time": "2023-03-22T10:22:48.110Z"
   },
   {
    "duration": 5,
    "start_time": "2023-03-22T10:22:48.117Z"
   },
   {
    "duration": 9,
    "start_time": "2023-03-22T10:22:48.123Z"
   },
   {
    "duration": 60,
    "start_time": "2023-03-22T10:22:48.134Z"
   },
   {
    "duration": 126,
    "start_time": "2023-03-22T10:22:48.198Z"
   },
   {
    "duration": 5,
    "start_time": "2023-03-22T10:22:48.326Z"
   },
   {
    "duration": 15,
    "start_time": "2023-03-22T10:22:48.332Z"
   },
   {
    "duration": 64,
    "start_time": "2023-03-22T10:22:48.349Z"
   },
   {
    "duration": 225,
    "start_time": "2023-03-22T10:22:48.415Z"
   },
   {
    "duration": 3,
    "start_time": "2023-03-22T10:22:48.642Z"
   },
   {
    "duration": 5,
    "start_time": "2023-03-22T10:22:48.647Z"
   },
   {
    "duration": 527,
    "start_time": "2023-03-22T10:22:48.654Z"
   },
   {
    "duration": 2560271,
    "start_time": "2023-03-22T10:22:49.183Z"
   },
   {
    "duration": 45,
    "start_time": "2023-03-22T11:05:29.456Z"
   },
   {
    "duration": 4,
    "start_time": "2023-03-22T11:05:29.503Z"
   },
   {
    "duration": 5,
    "start_time": "2023-03-22T11:05:29.509Z"
   },
   {
    "duration": 8,
    "start_time": "2023-03-22T11:05:29.516Z"
   },
   {
    "duration": 8,
    "start_time": "2023-03-22T11:05:29.526Z"
   },
   {
    "duration": 6,
    "start_time": "2023-03-22T11:05:29.536Z"
   },
   {
    "duration": 494605,
    "start_time": "2023-03-22T11:05:29.544Z"
   },
   {
    "duration": 357,
    "start_time": "2023-03-22T11:13:44.150Z"
   },
   {
    "duration": 0,
    "start_time": "2023-03-22T11:13:44.509Z"
   },
   {
    "duration": 0,
    "start_time": "2023-03-22T11:13:44.510Z"
   },
   {
    "duration": 0,
    "start_time": "2023-03-22T11:13:44.511Z"
   },
   {
    "duration": 0,
    "start_time": "2023-03-22T11:13:44.513Z"
   },
   {
    "duration": 0,
    "start_time": "2023-03-22T11:13:44.514Z"
   },
   {
    "duration": 0,
    "start_time": "2023-03-22T11:13:44.515Z"
   },
   {
    "duration": 0,
    "start_time": "2023-03-22T11:13:44.516Z"
   },
   {
    "duration": 0,
    "start_time": "2023-03-22T11:13:44.517Z"
   },
   {
    "duration": 1784,
    "start_time": "2023-03-22T11:14:57.462Z"
   },
   {
    "duration": 522990,
    "start_time": "2023-03-22T14:20:42.301Z"
   }
  ],
  "kernelspec": {
   "display_name": "Python 3 (ipykernel)",
   "language": "python",
   "name": "python3"
  },
  "language_info": {
   "codemirror_mode": {
    "name": "ipython",
    "version": 3
   },
   "file_extension": ".py",
   "mimetype": "text/x-python",
   "name": "python",
   "nbconvert_exporter": "python",
   "pygments_lexer": "ipython3",
   "version": "3.11.3"
  },
  "toc": {
   "base_numbering": 1,
   "nav_menu": {},
   "number_sections": false,
   "sideBar": true,
   "skip_h1_title": false,
   "title_cell": "Содержание",
   "title_sidebar": "Contents",
   "toc_cell": false,
   "toc_position": {
    "height": "calc(100% - 180px)",
    "left": "10px",
    "top": "150px",
    "width": "349.375px"
   },
   "toc_section_display": true,
   "toc_window_display": true
  }
 },
 "nbformat": 4,
 "nbformat_minor": 2
}
